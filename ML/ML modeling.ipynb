{
  "cells": [
    {
      "cell_type": "markdown",
      "source": [
        "# 모델링 - ML\n",
        "## ML model\n",
        "- SVM, RandomForest, Gradient Boosting, Light GBM, XGBoost\n",
        "- 5-fold cross validation\n",
        "- Grid Search  \n",
        "\n",
        "## Data\n",
        "- 274 rows * 8 columns\n",
        "- train:test = 8:2"
      ],
      "metadata": {
        "id": "Hxtfw8AVR4rO"
      }
    },
    {
      "cell_type": "code",
      "execution_count": 10,
      "metadata": {
        "id": "tIqhsb25jmtP"
      },
      "outputs": [],
      "source": [
        "import pandas as pd\n",
        "import numpy as np\n",
        "\n",
        "from sklearn.ensemble import RandomForestClassifier\n",
        "from sklearn.model_selection import train_test_split\n",
        "from sklearn.metrics import accuracy_score\n",
        "from sklearn.metrics import classification_report\n",
        "from sklearn.metrics import confusion_matrix\n",
        "from sklearn.model_selection import GridSearchCV\n",
        "\n",
        "import seaborn as sns\n",
        "import matplotlib.pyplot as plt"
      ]
    },
    {
      "cell_type": "code",
      "source": [
        "from google.colab import drive\n",
        "drive.mount('/content/drive')"
      ],
      "metadata": {
        "colab": {
          "base_uri": "https://localhost:8080/"
        },
        "id": "sxk1g22m3Lco",
        "outputId": "1cf67942-1496-4743-ccf7-a14a3e79001c"
      },
      "execution_count": 11,
      "outputs": [
        {
          "output_type": "stream",
          "name": "stdout",
          "text": [
            "Drive already mounted at /content/drive; to attempt to forcibly remount, call drive.mount(\"/content/drive\", force_remount=True).\n"
          ]
        }
      ]
    },
    {
      "cell_type": "markdown",
      "source": [
        "### Novel Data Load"
      ],
      "metadata": {
        "id": "Tg-lnn94-v6Z"
      }
    },
    {
      "cell_type": "code",
      "execution_count": 12,
      "metadata": {
        "id": "WIlfQ87llHH6",
        "colab": {
          "base_uri": "https://localhost:8080/",
          "height": 455
        },
        "outputId": "72e8087c-84be-4947-97fb-6cb1411f6916"
      },
      "outputs": [
        {
          "output_type": "execute_result",
          "data": {
            "text/plain": [
              "                           장르  총합 별점   관심수   평균 조회수  평균 업로드 간격  평균 공백 제거 글자수  \\\n",
              "이름                                                                             \n",
              "임신 계략                     로맨스   9.98  2179  24000.0       1.50        3619.0   \n",
              "제국의 하인                    로맨스   9.99  2135  22000.0       0.25        4637.8   \n",
              "첫사랑, 첫이별, 첫아이             로맨스   9.99  1549  14000.0       4.00        3924.0   \n",
              "못난이 아내                    로맨스   9.98  1136   9799.6       1.25        3333.0   \n",
              "남편의 체온                    로맨스   9.97  1482  20000.0       1.00        5098.8   \n",
              "...                       ...    ...   ...      ...        ...           ...   \n",
              "바뀌어버린 세계                라이트노벨   9.94    11    535.0       1.50        2385.6   \n",
              "희비록                     라이트노벨   9.99     6     73.2       1.75        1198.6   \n",
              "생명과 이름:『호명 / 呼名』        라이트노벨   7.71     3     45.8       0.50        3052.4   \n",
              "강약약강(强弱弱强)              라이트노벨  10.00     3     25.0       0.50        2890.4   \n",
              "당신도 용사가 될 수 있습니다! 아마도?  라이트노벨   9.97    14    517.8       0.25        2085.4   \n",
              "\n",
              "                        평균 댓글 수  Target  \n",
              "이름                                       \n",
              "임신 계략                       3.8       1  \n",
              "제국의 하인                     10.0       1  \n",
              "첫사랑, 첫이별, 첫아이              11.2       1  \n",
              "못난이 아내                      0.8       1  \n",
              "남편의 체온                      9.6       1  \n",
              "...                         ...     ...  \n",
              "바뀌어버린 세계                    0.8       0  \n",
              "희비록                         1.4       0  \n",
              "생명과 이름:『호명 / 呼名』            0.4       0  \n",
              "강약약강(强弱弱强)                  0.2       0  \n",
              "당신도 용사가 될 수 있습니다! 아마도?      1.6       0  \n",
              "\n",
              "[274 rows x 8 columns]"
            ],
            "text/html": [
              "\n",
              "  <div id=\"df-b2cd75c9-dad2-4490-852e-cb9b9c359339\">\n",
              "    <div class=\"colab-df-container\">\n",
              "      <div>\n",
              "<style scoped>\n",
              "    .dataframe tbody tr th:only-of-type {\n",
              "        vertical-align: middle;\n",
              "    }\n",
              "\n",
              "    .dataframe tbody tr th {\n",
              "        vertical-align: top;\n",
              "    }\n",
              "\n",
              "    .dataframe thead th {\n",
              "        text-align: right;\n",
              "    }\n",
              "</style>\n",
              "<table border=\"1\" class=\"dataframe\">\n",
              "  <thead>\n",
              "    <tr style=\"text-align: right;\">\n",
              "      <th></th>\n",
              "      <th>장르</th>\n",
              "      <th>총합 별점</th>\n",
              "      <th>관심수</th>\n",
              "      <th>평균 조회수</th>\n",
              "      <th>평균 업로드 간격</th>\n",
              "      <th>평균 공백 제거 글자수</th>\n",
              "      <th>평균 댓글 수</th>\n",
              "      <th>Target</th>\n",
              "    </tr>\n",
              "    <tr>\n",
              "      <th>이름</th>\n",
              "      <th></th>\n",
              "      <th></th>\n",
              "      <th></th>\n",
              "      <th></th>\n",
              "      <th></th>\n",
              "      <th></th>\n",
              "      <th></th>\n",
              "      <th></th>\n",
              "    </tr>\n",
              "  </thead>\n",
              "  <tbody>\n",
              "    <tr>\n",
              "      <th>임신 계략</th>\n",
              "      <td>로맨스</td>\n",
              "      <td>9.98</td>\n",
              "      <td>2179</td>\n",
              "      <td>24000.0</td>\n",
              "      <td>1.50</td>\n",
              "      <td>3619.0</td>\n",
              "      <td>3.8</td>\n",
              "      <td>1</td>\n",
              "    </tr>\n",
              "    <tr>\n",
              "      <th>제국의 하인</th>\n",
              "      <td>로맨스</td>\n",
              "      <td>9.99</td>\n",
              "      <td>2135</td>\n",
              "      <td>22000.0</td>\n",
              "      <td>0.25</td>\n",
              "      <td>4637.8</td>\n",
              "      <td>10.0</td>\n",
              "      <td>1</td>\n",
              "    </tr>\n",
              "    <tr>\n",
              "      <th>첫사랑, 첫이별, 첫아이</th>\n",
              "      <td>로맨스</td>\n",
              "      <td>9.99</td>\n",
              "      <td>1549</td>\n",
              "      <td>14000.0</td>\n",
              "      <td>4.00</td>\n",
              "      <td>3924.0</td>\n",
              "      <td>11.2</td>\n",
              "      <td>1</td>\n",
              "    </tr>\n",
              "    <tr>\n",
              "      <th>못난이 아내</th>\n",
              "      <td>로맨스</td>\n",
              "      <td>9.98</td>\n",
              "      <td>1136</td>\n",
              "      <td>9799.6</td>\n",
              "      <td>1.25</td>\n",
              "      <td>3333.0</td>\n",
              "      <td>0.8</td>\n",
              "      <td>1</td>\n",
              "    </tr>\n",
              "    <tr>\n",
              "      <th>남편의 체온</th>\n",
              "      <td>로맨스</td>\n",
              "      <td>9.97</td>\n",
              "      <td>1482</td>\n",
              "      <td>20000.0</td>\n",
              "      <td>1.00</td>\n",
              "      <td>5098.8</td>\n",
              "      <td>9.6</td>\n",
              "      <td>1</td>\n",
              "    </tr>\n",
              "    <tr>\n",
              "      <th>...</th>\n",
              "      <td>...</td>\n",
              "      <td>...</td>\n",
              "      <td>...</td>\n",
              "      <td>...</td>\n",
              "      <td>...</td>\n",
              "      <td>...</td>\n",
              "      <td>...</td>\n",
              "      <td>...</td>\n",
              "    </tr>\n",
              "    <tr>\n",
              "      <th>바뀌어버린 세계</th>\n",
              "      <td>라이트노벨</td>\n",
              "      <td>9.94</td>\n",
              "      <td>11</td>\n",
              "      <td>535.0</td>\n",
              "      <td>1.50</td>\n",
              "      <td>2385.6</td>\n",
              "      <td>0.8</td>\n",
              "      <td>0</td>\n",
              "    </tr>\n",
              "    <tr>\n",
              "      <th>희비록</th>\n",
              "      <td>라이트노벨</td>\n",
              "      <td>9.99</td>\n",
              "      <td>6</td>\n",
              "      <td>73.2</td>\n",
              "      <td>1.75</td>\n",
              "      <td>1198.6</td>\n",
              "      <td>1.4</td>\n",
              "      <td>0</td>\n",
              "    </tr>\n",
              "    <tr>\n",
              "      <th>생명과 이름:『호명 / 呼名』</th>\n",
              "      <td>라이트노벨</td>\n",
              "      <td>7.71</td>\n",
              "      <td>3</td>\n",
              "      <td>45.8</td>\n",
              "      <td>0.50</td>\n",
              "      <td>3052.4</td>\n",
              "      <td>0.4</td>\n",
              "      <td>0</td>\n",
              "    </tr>\n",
              "    <tr>\n",
              "      <th>강약약강(强弱弱强)</th>\n",
              "      <td>라이트노벨</td>\n",
              "      <td>10.00</td>\n",
              "      <td>3</td>\n",
              "      <td>25.0</td>\n",
              "      <td>0.50</td>\n",
              "      <td>2890.4</td>\n",
              "      <td>0.2</td>\n",
              "      <td>0</td>\n",
              "    </tr>\n",
              "    <tr>\n",
              "      <th>당신도 용사가 될 수 있습니다! 아마도?</th>\n",
              "      <td>라이트노벨</td>\n",
              "      <td>9.97</td>\n",
              "      <td>14</td>\n",
              "      <td>517.8</td>\n",
              "      <td>0.25</td>\n",
              "      <td>2085.4</td>\n",
              "      <td>1.6</td>\n",
              "      <td>0</td>\n",
              "    </tr>\n",
              "  </tbody>\n",
              "</table>\n",
              "<p>274 rows × 8 columns</p>\n",
              "</div>\n",
              "      <button class=\"colab-df-convert\" onclick=\"convertToInteractive('df-b2cd75c9-dad2-4490-852e-cb9b9c359339')\"\n",
              "              title=\"Convert this dataframe to an interactive table.\"\n",
              "              style=\"display:none;\">\n",
              "        \n",
              "  <svg xmlns=\"http://www.w3.org/2000/svg\" height=\"24px\"viewBox=\"0 0 24 24\"\n",
              "       width=\"24px\">\n",
              "    <path d=\"M0 0h24v24H0V0z\" fill=\"none\"/>\n",
              "    <path d=\"M18.56 5.44l.94 2.06.94-2.06 2.06-.94-2.06-.94-.94-2.06-.94 2.06-2.06.94zm-11 1L8.5 8.5l.94-2.06 2.06-.94-2.06-.94L8.5 2.5l-.94 2.06-2.06.94zm10 10l.94 2.06.94-2.06 2.06-.94-2.06-.94-.94-2.06-.94 2.06-2.06.94z\"/><path d=\"M17.41 7.96l-1.37-1.37c-.4-.4-.92-.59-1.43-.59-.52 0-1.04.2-1.43.59L10.3 9.45l-7.72 7.72c-.78.78-.78 2.05 0 2.83L4 21.41c.39.39.9.59 1.41.59.51 0 1.02-.2 1.41-.59l7.78-7.78 2.81-2.81c.8-.78.8-2.07 0-2.86zM5.41 20L4 18.59l7.72-7.72 1.47 1.35L5.41 20z\"/>\n",
              "  </svg>\n",
              "      </button>\n",
              "      \n",
              "  <style>\n",
              "    .colab-df-container {\n",
              "      display:flex;\n",
              "      flex-wrap:wrap;\n",
              "      gap: 12px;\n",
              "    }\n",
              "\n",
              "    .colab-df-convert {\n",
              "      background-color: #E8F0FE;\n",
              "      border: none;\n",
              "      border-radius: 50%;\n",
              "      cursor: pointer;\n",
              "      display: none;\n",
              "      fill: #1967D2;\n",
              "      height: 32px;\n",
              "      padding: 0 0 0 0;\n",
              "      width: 32px;\n",
              "    }\n",
              "\n",
              "    .colab-df-convert:hover {\n",
              "      background-color: #E2EBFA;\n",
              "      box-shadow: 0px 1px 2px rgba(60, 64, 67, 0.3), 0px 1px 3px 1px rgba(60, 64, 67, 0.15);\n",
              "      fill: #174EA6;\n",
              "    }\n",
              "\n",
              "    [theme=dark] .colab-df-convert {\n",
              "      background-color: #3B4455;\n",
              "      fill: #D2E3FC;\n",
              "    }\n",
              "\n",
              "    [theme=dark] .colab-df-convert:hover {\n",
              "      background-color: #434B5C;\n",
              "      box-shadow: 0px 1px 3px 1px rgba(0, 0, 0, 0.15);\n",
              "      filter: drop-shadow(0px 1px 2px rgba(0, 0, 0, 0.3));\n",
              "      fill: #FFFFFF;\n",
              "    }\n",
              "  </style>\n",
              "\n",
              "      <script>\n",
              "        const buttonEl =\n",
              "          document.querySelector('#df-b2cd75c9-dad2-4490-852e-cb9b9c359339 button.colab-df-convert');\n",
              "        buttonEl.style.display =\n",
              "          google.colab.kernel.accessAllowed ? 'block' : 'none';\n",
              "\n",
              "        async function convertToInteractive(key) {\n",
              "          const element = document.querySelector('#df-b2cd75c9-dad2-4490-852e-cb9b9c359339');\n",
              "          const dataTable =\n",
              "            await google.colab.kernel.invokeFunction('convertToInteractive',\n",
              "                                                     [key], {});\n",
              "          if (!dataTable) return;\n",
              "\n",
              "          const docLinkHtml = 'Like what you see? Visit the ' +\n",
              "            '<a target=\"_blank\" href=https://colab.research.google.com/notebooks/data_table.ipynb>data table notebook</a>'\n",
              "            + ' to learn more about interactive tables.';\n",
              "          element.innerHTML = '';\n",
              "          dataTable['output_type'] = 'display_data';\n",
              "          await google.colab.output.renderOutput(dataTable, element);\n",
              "          const docLink = document.createElement('div');\n",
              "          docLink.innerHTML = docLinkHtml;\n",
              "          element.appendChild(docLink);\n",
              "        }\n",
              "      </script>\n",
              "    </div>\n",
              "  </div>\n",
              "  "
            ]
          },
          "metadata": {},
          "execution_count": 12
        }
      ],
      "source": [
        "data = pd.read_csv('/content/drive/MyDrive/Colab Notebooks/novel_final.csv', index_col='이름')\n",
        "data.drop(['Unnamed: 0'], axis=1, inplace=True)\n",
        "data"
      ]
    },
    {
      "cell_type": "code",
      "execution_count": 13,
      "metadata": {
        "colab": {
          "base_uri": "https://localhost:8080/"
        },
        "id": "akQsnwxRlgPu",
        "outputId": "5138e0fe-ea00-40b4-e48a-1907c0f9ab97"
      },
      "outputs": [
        {
          "output_type": "stream",
          "name": "stdout",
          "text": [
            "<class 'pandas.core.frame.DataFrame'>\n",
            "Index: 274 entries, 임신 계략 to 당신도 용사가 될 수 있습니다! 아마도?\n",
            "Data columns (total 14 columns):\n",
            " #   Column        Non-Null Count  Dtype  \n",
            "---  ------        --------------  -----  \n",
            " 0   총합 별점         274 non-null    float64\n",
            " 1   관심수           274 non-null    int64  \n",
            " 2   평균 조회수        274 non-null    float64\n",
            " 3   평균 업로드 간격     274 non-null    float64\n",
            " 4   평균 공백 제거 글자수  274 non-null    float64\n",
            " 5   평균 댓글 수       274 non-null    float64\n",
            " 6   Target        274 non-null    int64  \n",
            " 7   장르_라이트노벨      274 non-null    uint8  \n",
            " 8   장르_로맨스        274 non-null    uint8  \n",
            " 9   장르_로판         274 non-null    uint8  \n",
            " 10  장르_무협         274 non-null    uint8  \n",
            " 11  장르_미스터리       274 non-null    uint8  \n",
            " 12  장르_판타지        274 non-null    uint8  \n",
            " 13  장르_현판         274 non-null    uint8  \n",
            "dtypes: float64(5), int64(2), uint8(7)\n",
            "memory usage: 19.0+ KB\n"
          ]
        }
      ],
      "source": [
        "data = pd.get_dummies(data)  # 장르 -> 더미화\n",
        "data.info()"
      ]
    },
    {
      "cell_type": "code",
      "execution_count": 14,
      "metadata": {
        "id": "FOxxXHRfmZjY"
      },
      "outputs": [],
      "source": [
        "x = data[data.columns.difference(['Target'])]\n",
        "y = data['Target']"
      ]
    },
    {
      "cell_type": "code",
      "execution_count": 15,
      "metadata": {
        "colab": {
          "base_uri": "https://localhost:8080/"
        },
        "id": "_ujgAg7ymCj5",
        "outputId": "e4c1999a-7e81-4656-d9fb-0e8fd79f7056"
      },
      "outputs": [
        {
          "output_type": "stream",
          "name": "stdout",
          "text": [
            "219 55\n",
            "219 55\n"
          ]
        }
      ],
      "source": [
        "# 학습 데이터와 테스트 데이터 8:2 비율로 분할\n",
        "X_train, X_test, y_train, y_test = train_test_split(x, y, test_size=0.2, shuffle=True, stratify=y, random_state=24)\n",
        "\n",
        "print(len(X_train), len(X_test))\n",
        "print(len(y_train), len(y_test))"
      ]
    },
    {
      "cell_type": "code",
      "source": [
        "print(X_train.장르_라이트노벨.value_counts())\n",
        "print(X_train.장르_로맨스.value_counts())\n",
        "print(X_train.장르_로판.value_counts())\n",
        "print(X_train.장르_무협.value_counts())\n",
        "print(X_train.장르_미스터리.value_counts())\n",
        "print(X_train.장르_판타지.value_counts())\n",
        "print(X_train.장르_현판.value_counts())"
      ],
      "metadata": {
        "colab": {
          "base_uri": "https://localhost:8080/"
        },
        "id": "zuz7iTnuncWQ",
        "outputId": "ae600f23-ce35-445c-9d34-addf176650b4"
      },
      "execution_count": null,
      "outputs": [
        {
          "output_type": "stream",
          "name": "stdout",
          "text": [
            "0    192\n",
            "1     27\n",
            "Name: 장르_라이트노벨, dtype: int64\n",
            "0    189\n",
            "1     30\n",
            "Name: 장르_로맨스, dtype: int64\n",
            "0    189\n",
            "1     30\n",
            "Name: 장르_로판, dtype: int64\n",
            "0    189\n",
            "1     30\n",
            "Name: 장르_무협, dtype: int64\n",
            "0    187\n",
            "1     32\n",
            "Name: 장르_미스터리, dtype: int64\n",
            "0    182\n",
            "1     37\n",
            "Name: 장르_판타지, dtype: int64\n",
            "0    186\n",
            "1     33\n",
            "Name: 장르_현판, dtype: int64\n"
          ]
        }
      ]
    },
    {
      "cell_type": "code",
      "source": [
        "print(X_test.장르_라이트노벨.value_counts())\n",
        "print(X_test.장르_로맨스.value_counts())\n",
        "print(X_test.장르_로판.value_counts())\n",
        "print(X_test.장르_무협.value_counts())\n",
        "print(X_test.장르_미스터리.value_counts())\n",
        "print(X_test.장르_판타지.value_counts())\n",
        "print(X_test.장르_현판.value_counts())"
      ],
      "metadata": {
        "colab": {
          "base_uri": "https://localhost:8080/"
        },
        "id": "BQWWSblNo226",
        "outputId": "bf922941-b6f6-4432-ada6-e1352977ad73"
      },
      "execution_count": null,
      "outputs": [
        {
          "output_type": "stream",
          "name": "stdout",
          "text": [
            "0    45\n",
            "1    10\n",
            "Name: 장르_라이트노벨, dtype: int64\n",
            "0    45\n",
            "1    10\n",
            "Name: 장르_로맨스, dtype: int64\n",
            "0    45\n",
            "1    10\n",
            "Name: 장르_로판, dtype: int64\n",
            "0    46\n",
            "1     9\n",
            "Name: 장르_무협, dtype: int64\n",
            "0    48\n",
            "1     7\n",
            "Name: 장르_미스터리, dtype: int64\n",
            "0    53\n",
            "1     2\n",
            "Name: 장르_판타지, dtype: int64\n",
            "0    48\n",
            "1     7\n",
            "Name: 장르_현판, dtype: int64\n"
          ]
        }
      ]
    },
    {
      "cell_type": "code",
      "execution_count": 16,
      "metadata": {
        "id": "mXi8S2qQSrBM"
      },
      "outputs": [],
      "source": [
        "from sklearn.model_selection import KFold, cross_val_score\n",
        "\n",
        "k_fold = KFold(n_splits=5)"
      ]
    },
    {
      "cell_type": "markdown",
      "metadata": {
        "id": "2N9pborh0etZ"
      },
      "source": [
        "### SVM"
      ]
    },
    {
      "cell_type": "markdown",
      "source": [
        "#### 5-fold"
      ],
      "metadata": {
        "id": "1sOhXMuEC8Mn"
      }
    },
    {
      "cell_type": "code",
      "execution_count": null,
      "metadata": {
        "colab": {
          "base_uri": "https://localhost:8080/"
        },
        "id": "tbWJjmHg0gtX",
        "outputId": "12964c70-8729-432b-8a22-45c492c79304"
      },
      "outputs": [
        {
          "output_type": "stream",
          "name": "stdout",
          "text": [
            "[0.81818182 0.79545455 0.77272727 0.90909091 0.6744186 ]\n"
          ]
        }
      ],
      "source": [
        "from sklearn import svm\n",
        "\n",
        "svm_clf = svm.SVC(kernel = 'linear', random_state=42)\n",
        "svm_clf.fit(X_train, y_train)\n",
        "score = cross_val_score(svm_clf, X_train, y_train, cv=k_fold, n_jobs=1, scoring='accuracy')\n",
        "print(score)"
      ]
    },
    {
      "cell_type": "code",
      "execution_count": null,
      "metadata": {
        "id": "p3dUtTqS03Qu",
        "colab": {
          "base_uri": "https://localhost:8080/"
        },
        "outputId": "7be0a90f-bd67-4b4c-cf15-ea90764c4206"
      },
      "outputs": [
        {
          "output_type": "execute_result",
          "data": {
            "text/plain": [
              "79.4"
            ]
          },
          "metadata": {},
          "execution_count": 11
        }
      ],
      "source": [
        "round(np.mean(score) * 100, 2)"
      ]
    },
    {
      "cell_type": "code",
      "execution_count": null,
      "metadata": {
        "id": "gDjG0sMm064E",
        "colab": {
          "base_uri": "https://localhost:8080/"
        },
        "outputId": "ebcedcb5-94b5-456d-9efd-5acb2d201312"
      },
      "outputs": [
        {
          "output_type": "stream",
          "name": "stdout",
          "text": [
            "              precision    recall  f1-score   support\n",
            "\n",
            "           0       0.82      0.82      0.82        28\n",
            "           1       0.81      0.81      0.81        27\n",
            "\n",
            "    accuracy                           0.82        55\n",
            "   macro avg       0.82      0.82      0.82        55\n",
            "weighted avg       0.82      0.82      0.82        55\n",
            "\n"
          ]
        }
      ],
      "source": [
        "pred = svm_clf.predict(X_test)\n",
        "print(classification_report(y_test, pred))"
      ]
    },
    {
      "cell_type": "code",
      "execution_count": null,
      "metadata": {
        "id": "uY56d7691BQg",
        "colab": {
          "base_uri": "https://localhost:8080/",
          "height": 449
        },
        "outputId": "7d66e2ab-71a7-48d8-b6e4-f4f0912efb55"
      },
      "outputs": [
        {
          "output_type": "display_data",
          "data": {
            "text/plain": [
              "<Figure size 640x480 with 2 Axes>"
            ],
            "image/png": "[encoded data removed]"
          },
          "metadata": {}
        }
      ],
      "source": [
        "cm = confusion_matrix(y_test, pred)\n",
        "\n",
        "sns.heatmap(cm, annot=True, cmap='Blues')\n",
        "plt.xlabel('Predicted')\n",
        "plt.ylabel('True')\n",
        "plt.show()"
      ]
    },
    {
      "cell_type": "markdown",
      "source": [
        "#### grid search + 5-fold"
      ],
      "metadata": {
        "id": "Aq02nON_DBW7"
      }
    },
    {
      "cell_type": "code",
      "source": [
        "# SVM Classifier 객체 생성\n",
        "svm_clf = svm.SVC(kernel = 'linear', random_state=42)\n",
        "\n",
        "# 탐색할 매개변수 그리드 설정\n",
        "param_grid = {\n",
        "    'C': [0.1, 1, 10, 100],\n",
        "    'gamma': [0.1, 0.01, 0.001]\n",
        "}\n",
        "\n",
        "# GridSearchCV를 사용하여 최적의 매개변수 탐색\n",
        "grid_search_svm = GridSearchCV(svm_clf, param_grid=param_grid, cv=k_fold, scoring='accuracy', n_jobs=1)\n",
        "grid_search_svm.fit(X_train, y_train)\n",
        "\n",
        "# 최적의 매개변수와 최고 성능 출력\n",
        "print(\"Best Parameters: \", grid_search_svm.best_params_)\n",
        "print(\"Best Score: \", grid_search_svm.best_score_)"
      ],
      "metadata": {
        "colab": {
          "base_uri": "https://localhost:8080/"
        },
        "outputId": "dae661bc-c9d0-42ac-b8f6-5bab7f05b9a5",
        "id": "gndFE_xXOx5Y"
      },
      "execution_count": 18,
      "outputs": [
        {
          "output_type": "stream",
          "name": "stdout",
          "text": [
            "Best Parameters:  {'C': 1, 'gamma': 0.1}\n",
            "Best Score:  0.7939746300211417\n"
          ]
        }
      ]
    },
    {
      "cell_type": "code",
      "source": [
        "pred_svm = grid_search_svm.best_estimator_.predict(X_test)\n",
        "print(classification_report(y_test, pred_svm))\n",
        "accuracy = accuracy_score(y_test, pred_svm)\n",
        "print(f'Mean accuracy score: {accuracy:.3}')"
      ],
      "metadata": {
        "colab": {
          "base_uri": "https://localhost:8080/"
        },
        "outputId": "fbaff7e3-4a6b-40a3-bb04-4f993ad7865d",
        "id": "wxBAmwUpOx5o"
      },
      "execution_count": 19,
      "outputs": [
        {
          "output_type": "stream",
          "name": "stdout",
          "text": [
            "              precision    recall  f1-score   support\n",
            "\n",
            "           0       0.82      0.82      0.82        28\n",
            "           1       0.81      0.81      0.81        27\n",
            "\n",
            "    accuracy                           0.82        55\n",
            "   macro avg       0.82      0.82      0.82        55\n",
            "weighted avg       0.82      0.82      0.82        55\n",
            "\n",
            "Mean accuracy score: 0.818\n"
          ]
        }
      ]
    },
    {
      "cell_type": "code",
      "source": [
        "# confusion matrix\n",
        "cm = confusion_matrix(y_test, pred_svm)\n",
        "\n",
        "sns.heatmap(cm, annot=True, cmap='Blues')\n",
        "plt.title('SVM Confusion Matrix')\n",
        "plt.xlabel('Predicted')\n",
        "plt.ylabel('True')\n",
        "plt.show()"
      ],
      "metadata": {
        "colab": {
          "base_uri": "https://localhost:8080/",
          "height": 472
        },
        "id": "0VvZ1XZ6DonB",
        "outputId": "8fbbcf2c-d1f0-4ef2-8829-c1e662694055"
      },
      "execution_count": null,
      "outputs": [
        {
          "output_type": "display_data",
          "data": {
            "text/plain": [
              "<Figure size 640x480 with 2 Axes>"
            ],
            "image/png": "[encoded data removed]"
          },
          "metadata": {}
        }
      ]
    },
    {
      "cell_type": "code",
      "source": [
        "# 예측이 틀린 결과의 인덱스 가져오기\n",
        "incorrect_indices = np.where(pred_svm != y_test)[0]\n",
        "\n",
        "# 예측이 틀린 데이터의 내용 출력\n",
        "print(\"Incorrect Prediction:\")\n",
        "for index in incorrect_indices:\n",
        "    print(\"<Input Data>\")\n",
        "    print(X_test.iloc[index, :])\n",
        "    print(\"True Label:\", y_test[index])\n",
        "    print(\"Predicted Label:\", pred_svm[index])\n",
        "    print(\"-------------------\")"
      ],
      "metadata": {
        "colab": {
          "base_uri": "https://localhost:8080/"
        },
        "id": "64onxV-ReAMc",
        "outputId": "3e2be20d-1275-4693-9b25-8b465a3a127a"
      },
      "execution_count": null,
      "outputs": [
        {
          "output_type": "stream",
          "name": "stdout",
          "text": [
            "Incorrect Prediction:\n",
            "<Input Data>\n",
            "관심수                1.0\n",
            "장르_라이트노벨           1.0\n",
            "장르_로맨스             0.0\n",
            "장르_로판              0.0\n",
            "장르_무협              0.0\n",
            "장르_미스터리            0.0\n",
            "장르_판타지             0.0\n",
            "장르_현판              0.0\n",
            "총합 별점             10.0\n",
            "평균 공백 제거 글자수    2514.2\n",
            "평균 댓글 수            0.2\n",
            "평균 업로드 간격          4.0\n",
            "평균 조회수            63.4\n",
            "Name: 삶의 절망에 빠진 60대 엄마에 딸이, dtype: float64\n",
            "True Label: 1\n",
            "Predicted Label: 0\n",
            "-------------------\n",
            "<Input Data>\n",
            "관심수              344.00\n",
            "장르_라이트노벨           0.00\n",
            "장르_로맨스             1.00\n",
            "장르_로판              0.00\n",
            "장르_무협              0.00\n",
            "장르_미스터리            0.00\n",
            "장르_판타지             0.00\n",
            "장르_현판              0.00\n",
            "총합 별점             10.00\n",
            "평균 공백 제거 글자수    4158.00\n",
            "평균 댓글 수            3.80\n",
            "평균 업로드 간격          4.25\n",
            "평균 조회수          3117.00\n",
            "Name: 나의 친구, 다정한 완벽주의자, dtype: float64\n",
            "True Label: 0\n",
            "Predicted Label: 1\n",
            "-------------------\n",
            "<Input Data>\n",
            "관심수               10.0\n",
            "장르_라이트노벨           1.0\n",
            "장르_로맨스             0.0\n",
            "장르_로판              0.0\n",
            "장르_무협              0.0\n",
            "장르_미스터리            0.0\n",
            "장르_판타지             0.0\n",
            "장르_현판              0.0\n",
            "총합 별점             10.0\n",
            "평균 공백 제거 글자수    2492.2\n",
            "평균 댓글 수            0.8\n",
            "평균 업로드 간격         22.0\n",
            "평균 조회수           201.2\n",
            "Name: 마녀가 제 여동생이라는데요?, dtype: float64\n",
            "True Label: 1\n",
            "Predicted Label: 0\n",
            "-------------------\n",
            "<Input Data>\n",
            "관심수              361.0\n",
            "장르_라이트노벨           0.0\n",
            "장르_로맨스             0.0\n",
            "장르_로판              1.0\n",
            "장르_무협              0.0\n",
            "장르_미스터리            0.0\n",
            "장르_판타지             0.0\n",
            "장르_현판              0.0\n",
            "총합 별점             10.0\n",
            "평균 공백 제거 글자수    4678.4\n",
            "평균 댓글 수            0.8\n",
            "평균 업로드 간격          1.5\n",
            "평균 조회수          9383.4\n",
            "Name: 이번 생은 내가 떠나겠다, dtype: float64\n",
            "True Label: 0\n",
            "Predicted Label: 1\n",
            "-------------------\n",
            "<Input Data>\n",
            "관심수               11.0\n",
            "장르_라이트노벨           1.0\n",
            "장르_로맨스             0.0\n",
            "장르_로판              0.0\n",
            "장르_무협              0.0\n",
            "장르_미스터리            0.0\n",
            "장르_판타지             0.0\n",
            "장르_현판              0.0\n",
            "총합 별점             10.0\n",
            "평균 공백 제거 글자수    4531.8\n",
            "평균 댓글 수            0.4\n",
            "평균 업로드 간격          0.0\n",
            "평균 조회수           276.2\n",
            "Name: 당신 아이 데려가세요, dtype: float64\n",
            "True Label: 0\n",
            "Predicted Label: 1\n",
            "-------------------\n",
            "<Input Data>\n",
            "관심수               46.00\n",
            "장르_라이트노벨           0.00\n",
            "장르_로맨스             0.00\n",
            "장르_로판              0.00\n",
            "장르_무협              0.00\n",
            "장르_미스터리            1.00\n",
            "장르_판타지             0.00\n",
            "장르_현판              0.00\n",
            "총합 별점             10.00\n",
            "평균 공백 제거 글자수    3486.20\n",
            "평균 댓글 수            0.40\n",
            "평균 업로드 간격         20.75\n",
            "평균 조회수           660.60\n",
            "Name: 대통령과 여왕, dtype: float64\n",
            "True Label: 1\n",
            "Predicted Label: 0\n",
            "-------------------\n",
            "<Input Data>\n",
            "관심수               12.00\n",
            "장르_라이트노벨           0.00\n",
            "장르_로맨스             0.00\n",
            "장르_로판              0.00\n",
            "장르_무협              0.00\n",
            "장르_미스터리            1.00\n",
            "장르_판타지             0.00\n",
            "장르_현판              0.00\n",
            "총합 별점             10.00\n",
            "평균 공백 제거 글자수    4222.20\n",
            "평균 댓글 수            0.00\n",
            "평균 업로드 간격          3.75\n",
            "평균 조회수           208.60\n",
            "Name: 흔한 이야기, dtype: float64\n",
            "True Label: 1\n",
            "Predicted Label: 0\n",
            "-------------------\n",
            "<Input Data>\n",
            "관심수              140.00\n",
            "장르_라이트노벨           1.00\n",
            "장르_로맨스             0.00\n",
            "장르_로판              0.00\n",
            "장르_무협              0.00\n",
            "장르_미스터리            0.00\n",
            "장르_판타지             0.00\n",
            "장르_현판              0.00\n",
            "총합 별점              9.43\n",
            "평균 공백 제거 글자수    2847.60\n",
            "평균 댓글 수            4.00\n",
            "평균 업로드 간격          0.75\n",
            "평균 조회수          2170.40\n",
            "Name: 악명 높기로 악명 높은 자, dtype: float64\n",
            "True Label: 0\n",
            "Predicted Label: 1\n",
            "-------------------\n",
            "<Input Data>\n",
            "관심수                3.00\n",
            "장르_라이트노벨           1.00\n",
            "장르_로맨스             0.00\n",
            "장르_로판              0.00\n",
            "장르_무협              0.00\n",
            "장르_미스터리            0.00\n",
            "장르_판타지             0.00\n",
            "장르_현판              0.00\n",
            "총합 별점              0.00\n",
            "평균 공백 제거 글자수    4216.40\n",
            "평균 댓글 수            0.00\n",
            "평균 업로드 간격          0.25\n",
            "평균 조회수            14.80\n",
            "Name: 성검학원의 듀라한, dtype: float64\n",
            "True Label: 1\n",
            "Predicted Label: 0\n",
            "-------------------\n",
            "<Input Data>\n",
            "관심수               11.00\n",
            "장르_라이트노벨           1.00\n",
            "장르_로맨스             0.00\n",
            "장르_로판              0.00\n",
            "장르_무협              0.00\n",
            "장르_미스터리            0.00\n",
            "장르_판타지             0.00\n",
            "장르_현판              0.00\n",
            "총합 별점              9.94\n",
            "평균 공백 제거 글자수    2385.60\n",
            "평균 댓글 수            0.80\n",
            "평균 업로드 간격          1.50\n",
            "평균 조회수           535.00\n",
            "Name: 바뀌어버린 세계, dtype: float64\n",
            "True Label: 0\n",
            "Predicted Label: 1\n",
            "-------------------\n"
          ]
        }
      ]
    },
    {
      "cell_type": "code",
      "source": [
        "# 예측이 틀린 데이터를 데이터프레임으로 저장\n",
        "incorrect_svm = X_test.iloc[incorrect_indices, :]\n",
        "incorrect_svm['True Label'] = y_test[incorrect_indices]\n",
        "incorrect_svm['Predicted Label'] = pred_svm[incorrect_indices]\n",
        "\n",
        "# 데이터프레임 출력\n",
        "print(\"Incorrect Prediction:\")\n",
        "incorrect_svm"
      ],
      "metadata": {
        "colab": {
          "base_uri": "https://localhost:8080/",
          "height": 1000
        },
        "id": "0QVBwfl4mESk",
        "outputId": "40d88ecf-d174-4461-e77e-499918b2a3ee"
      },
      "execution_count": null,
      "outputs": [
        {
          "output_type": "stream",
          "name": "stdout",
          "text": [
            "Incorrect Prediction:\n"
          ]
        },
        {
          "output_type": "stream",
          "name": "stderr",
          "text": [
            "<ipython-input-80-b5b7824d3f5c>:3: SettingWithCopyWarning: \n",
            "A value is trying to be set on a copy of a slice from a DataFrame.\n",
            "Try using .loc[row_indexer,col_indexer] = value instead\n",
            "\n",
            "See the caveats in the documentation: https://pandas.pydata.org/pandas-docs/stable/user_guide/indexing.html#returning-a-view-versus-a-copy\n",
            "  incorrect_svm['True Label'] = y_test[incorrect_indices]\n",
            "<ipython-input-80-b5b7824d3f5c>:4: SettingWithCopyWarning: \n",
            "A value is trying to be set on a copy of a slice from a DataFrame.\n",
            "Try using .loc[row_indexer,col_indexer] = value instead\n",
            "\n",
            "See the caveats in the documentation: https://pandas.pydata.org/pandas-docs/stable/user_guide/indexing.html#returning-a-view-versus-a-copy\n",
            "  incorrect_svm['Predicted Label'] = pred_svm[incorrect_indices]\n"
          ]
        },
        {
          "output_type": "execute_result",
          "data": {
            "text/plain": [
              "                      관심수  장르_라이트노벨  장르_로맨스  장르_로판  장르_무협  장르_미스터리  장르_판타지  \\\n",
              "이름                                                                           \n",
              "삶의 절망에 빠진 60대 엄마에 딸이    1         1       0      0      0        0       0   \n",
              "나의 친구, 다정한 완벽주의자      344         0       1      0      0        0       0   \n",
              "마녀가 제 여동생이라는데요?        10         1       0      0      0        0       0   \n",
              "이번 생은 내가 떠나겠다         361         0       0      1      0        0       0   \n",
              "당신 아이 데려가세요            11         1       0      0      0        0       0   \n",
              "대통령과 여왕                46         0       0      0      0        1       0   \n",
              "흔한 이야기                 12         0       0      0      0        1       0   \n",
              "악명 높기로 악명 높은 자        140         1       0      0      0        0       0   \n",
              "성검학원의 듀라한               3         1       0      0      0        0       0   \n",
              "바뀌어버린 세계               11         1       0      0      0        0       0   \n",
              "\n",
              "                      장르_현판  총합 별점  평균 공백 제거 글자수  평균 댓글 수  평균 업로드 간격  평균 조회수  \\\n",
              "이름                                                                             \n",
              "삶의 절망에 빠진 60대 엄마에 딸이      0  10.00        2514.2      0.2       4.00    63.4   \n",
              "나의 친구, 다정한 완벽주의자          0  10.00        4158.0      3.8       4.25  3117.0   \n",
              "마녀가 제 여동생이라는데요?           0  10.00        2492.2      0.8      22.00   201.2   \n",
              "이번 생은 내가 떠나겠다             0  10.00        4678.4      0.8       1.50  9383.4   \n",
              "당신 아이 데려가세요               0  10.00        4531.8      0.4       0.00   276.2   \n",
              "대통령과 여왕                   0  10.00        3486.2      0.4      20.75   660.6   \n",
              "흔한 이야기                    0  10.00        4222.2      0.0       3.75   208.6   \n",
              "악명 높기로 악명 높은 자            0   9.43        2847.6      4.0       0.75  2170.4   \n",
              "성검학원의 듀라한                 0   0.00        4216.4      0.0       0.25    14.8   \n",
              "바뀌어버린 세계                  0   9.94        2385.6      0.8       1.50   535.0   \n",
              "\n",
              "                      True Label  Predicted Label  \n",
              "이름                                                 \n",
              "삶의 절망에 빠진 60대 엄마에 딸이           1                0  \n",
              "나의 친구, 다정한 완벽주의자               0                1  \n",
              "마녀가 제 여동생이라는데요?                1                0  \n",
              "이번 생은 내가 떠나겠다                  0                1  \n",
              "당신 아이 데려가세요                    0                1  \n",
              "대통령과 여왕                        1                0  \n",
              "흔한 이야기                         1                0  \n",
              "악명 높기로 악명 높은 자                 0                1  \n",
              "성검학원의 듀라한                      1                0  \n",
              "바뀌어버린 세계                       0                1  "
            ],
            "text/html": [
              "\n",
              "  <div id=\"df-36c01c1c-729b-4a45-ac6e-8cd57849a0c0\">\n",
              "    <div class=\"colab-df-container\">\n",
              "      <div>\n",
              "<style scoped>\n",
              "    .dataframe tbody tr th:only-of-type {\n",
              "        vertical-align: middle;\n",
              "    }\n",
              "\n",
              "    .dataframe tbody tr th {\n",
              "        vertical-align: top;\n",
              "    }\n",
              "\n",
              "    .dataframe thead th {\n",
              "        text-align: right;\n",
              "    }\n",
              "</style>\n",
              "<table border=\"1\" class=\"dataframe\">\n",
              "  <thead>\n",
              "    <tr style=\"text-align: right;\">\n",
              "      <th></th>\n",
              "      <th>관심수</th>\n",
              "      <th>장르_라이트노벨</th>\n",
              "      <th>장르_로맨스</th>\n",
              "      <th>장르_로판</th>\n",
              "      <th>장르_무협</th>\n",
              "      <th>장르_미스터리</th>\n",
              "      <th>장르_판타지</th>\n",
              "      <th>장르_현판</th>\n",
              "      <th>총합 별점</th>\n",
              "      <th>평균 공백 제거 글자수</th>\n",
              "      <th>평균 댓글 수</th>\n",
              "      <th>평균 업로드 간격</th>\n",
              "      <th>평균 조회수</th>\n",
              "      <th>True Label</th>\n",
              "      <th>Predicted Label</th>\n",
              "    </tr>\n",
              "    <tr>\n",
              "      <th>이름</th>\n",
              "      <th></th>\n",
              "      <th></th>\n",
              "      <th></th>\n",
              "      <th></th>\n",
              "      <th></th>\n",
              "      <th></th>\n",
              "      <th></th>\n",
              "      <th></th>\n",
              "      <th></th>\n",
              "      <th></th>\n",
              "      <th></th>\n",
              "      <th></th>\n",
              "      <th></th>\n",
              "      <th></th>\n",
              "      <th></th>\n",
              "    </tr>\n",
              "  </thead>\n",
              "  <tbody>\n",
              "    <tr>\n",
              "      <th>삶의 절망에 빠진 60대 엄마에 딸이</th>\n",
              "      <td>1</td>\n",
              "      <td>1</td>\n",
              "      <td>0</td>\n",
              "      <td>0</td>\n",
              "      <td>0</td>\n",
              "      <td>0</td>\n",
              "      <td>0</td>\n",
              "      <td>0</td>\n",
              "      <td>10.00</td>\n",
              "      <td>2514.2</td>\n",
              "      <td>0.2</td>\n",
              "      <td>4.00</td>\n",
              "      <td>63.4</td>\n",
              "      <td>1</td>\n",
              "      <td>0</td>\n",
              "    </tr>\n",
              "    <tr>\n",
              "      <th>나의 친구, 다정한 완벽주의자</th>\n",
              "      <td>344</td>\n",
              "      <td>0</td>\n",
              "      <td>1</td>\n",
              "      <td>0</td>\n",
              "      <td>0</td>\n",
              "      <td>0</td>\n",
              "      <td>0</td>\n",
              "      <td>0</td>\n",
              "      <td>10.00</td>\n",
              "      <td>4158.0</td>\n",
              "      <td>3.8</td>\n",
              "      <td>4.25</td>\n",
              "      <td>3117.0</td>\n",
              "      <td>0</td>\n",
              "      <td>1</td>\n",
              "    </tr>\n",
              "    <tr>\n",
              "      <th>마녀가 제 여동생이라는데요?</th>\n",
              "      <td>10</td>\n",
              "      <td>1</td>\n",
              "      <td>0</td>\n",
              "      <td>0</td>\n",
              "      <td>0</td>\n",
              "      <td>0</td>\n",
              "      <td>0</td>\n",
              "      <td>0</td>\n",
              "      <td>10.00</td>\n",
              "      <td>2492.2</td>\n",
              "      <td>0.8</td>\n",
              "      <td>22.00</td>\n",
              "      <td>201.2</td>\n",
              "      <td>1</td>\n",
              "      <td>0</td>\n",
              "    </tr>\n",
              "    <tr>\n",
              "      <th>이번 생은 내가 떠나겠다</th>\n",
              "      <td>361</td>\n",
              "      <td>0</td>\n",
              "      <td>0</td>\n",
              "      <td>1</td>\n",
              "      <td>0</td>\n",
              "      <td>0</td>\n",
              "      <td>0</td>\n",
              "      <td>0</td>\n",
              "      <td>10.00</td>\n",
              "      <td>4678.4</td>\n",
              "      <td>0.8</td>\n",
              "      <td>1.50</td>\n",
              "      <td>9383.4</td>\n",
              "      <td>0</td>\n",
              "      <td>1</td>\n",
              "    </tr>\n",
              "    <tr>\n",
              "      <th>당신 아이 데려가세요</th>\n",
              "      <td>11</td>\n",
              "      <td>1</td>\n",
              "      <td>0</td>\n",
              "      <td>0</td>\n",
              "      <td>0</td>\n",
              "      <td>0</td>\n",
              "      <td>0</td>\n",
              "      <td>0</td>\n",
              "      <td>10.00</td>\n",
              "      <td>4531.8</td>\n",
              "      <td>0.4</td>\n",
              "      <td>0.00</td>\n",
              "      <td>276.2</td>\n",
              "      <td>0</td>\n",
              "      <td>1</td>\n",
              "    </tr>\n",
              "    <tr>\n",
              "      <th>대통령과 여왕</th>\n",
              "      <td>46</td>\n",
              "      <td>0</td>\n",
              "      <td>0</td>\n",
              "      <td>0</td>\n",
              "      <td>0</td>\n",
              "      <td>1</td>\n",
              "      <td>0</td>\n",
              "      <td>0</td>\n",
              "      <td>10.00</td>\n",
              "      <td>3486.2</td>\n",
              "      <td>0.4</td>\n",
              "      <td>20.75</td>\n",
              "      <td>660.6</td>\n",
              "      <td>1</td>\n",
              "      <td>0</td>\n",
              "    </tr>\n",
              "    <tr>\n",
              "      <th>흔한 이야기</th>\n",
              "      <td>12</td>\n",
              "      <td>0</td>\n",
              "      <td>0</td>\n",
              "      <td>0</td>\n",
              "      <td>0</td>\n",
              "      <td>1</td>\n",
              "      <td>0</td>\n",
              "      <td>0</td>\n",
              "      <td>10.00</td>\n",
              "      <td>4222.2</td>\n",
              "      <td>0.0</td>\n",
              "      <td>3.75</td>\n",
              "      <td>208.6</td>\n",
              "      <td>1</td>\n",
              "      <td>0</td>\n",
              "    </tr>\n",
              "    <tr>\n",
              "      <th>악명 높기로 악명 높은 자</th>\n",
              "      <td>140</td>\n",
              "      <td>1</td>\n",
              "      <td>0</td>\n",
              "      <td>0</td>\n",
              "      <td>0</td>\n",
              "      <td>0</td>\n",
              "      <td>0</td>\n",
              "      <td>0</td>\n",
              "      <td>9.43</td>\n",
              "      <td>2847.6</td>\n",
              "      <td>4.0</td>\n",
              "      <td>0.75</td>\n",
              "      <td>2170.4</td>\n",
              "      <td>0</td>\n",
              "      <td>1</td>\n",
              "    </tr>\n",
              "    <tr>\n",
              "      <th>성검학원의 듀라한</th>\n",
              "      <td>3</td>\n",
              "      <td>1</td>\n",
              "      <td>0</td>\n",
              "      <td>0</td>\n",
              "      <td>0</td>\n",
              "      <td>0</td>\n",
              "      <td>0</td>\n",
              "      <td>0</td>\n",
              "      <td>0.00</td>\n",
              "      <td>4216.4</td>\n",
              "      <td>0.0</td>\n",
              "      <td>0.25</td>\n",
              "      <td>14.8</td>\n",
              "      <td>1</td>\n",
              "      <td>0</td>\n",
              "    </tr>\n",
              "    <tr>\n",
              "      <th>바뀌어버린 세계</th>\n",
              "      <td>11</td>\n",
              "      <td>1</td>\n",
              "      <td>0</td>\n",
              "      <td>0</td>\n",
              "      <td>0</td>\n",
              "      <td>0</td>\n",
              "      <td>0</td>\n",
              "      <td>0</td>\n",
              "      <td>9.94</td>\n",
              "      <td>2385.6</td>\n",
              "      <td>0.8</td>\n",
              "      <td>1.50</td>\n",
              "      <td>535.0</td>\n",
              "      <td>0</td>\n",
              "      <td>1</td>\n",
              "    </tr>\n",
              "  </tbody>\n",
              "</table>\n",
              "</div>\n",
              "      <button class=\"colab-df-convert\" onclick=\"convertToInteractive('df-36c01c1c-729b-4a45-ac6e-8cd57849a0c0')\"\n",
              "              title=\"Convert this dataframe to an interactive table.\"\n",
              "              style=\"display:none;\">\n",
              "        \n",
              "  <svg xmlns=\"http://www.w3.org/2000/svg\" height=\"24px\"viewBox=\"0 0 24 24\"\n",
              "       width=\"24px\">\n",
              "    <path d=\"M0 0h24v24H0V0z\" fill=\"none\"/>\n",
              "    <path d=\"M18.56 5.44l.94 2.06.94-2.06 2.06-.94-2.06-.94-.94-2.06-.94 2.06-2.06.94zm-11 1L8.5 8.5l.94-2.06 2.06-.94-2.06-.94L8.5 2.5l-.94 2.06-2.06.94zm10 10l.94 2.06.94-2.06 2.06-.94-2.06-.94-.94-2.06-.94 2.06-2.06.94z\"/><path d=\"M17.41 7.96l-1.37-1.37c-.4-.4-.92-.59-1.43-.59-.52 0-1.04.2-1.43.59L10.3 9.45l-7.72 7.72c-.78.78-.78 2.05 0 2.83L4 21.41c.39.39.9.59 1.41.59.51 0 1.02-.2 1.41-.59l7.78-7.78 2.81-2.81c.8-.78.8-2.07 0-2.86zM5.41 20L4 18.59l7.72-7.72 1.47 1.35L5.41 20z\"/>\n",
              "  </svg>\n",
              "      </button>\n",
              "      \n",
              "  <style>\n",
              "    .colab-df-container {\n",
              "      display:flex;\n",
              "      flex-wrap:wrap;\n",
              "      gap: 12px;\n",
              "    }\n",
              "\n",
              "    .colab-df-convert {\n",
              "      background-color: #E8F0FE;\n",
              "      border: none;\n",
              "      border-radius: 50%;\n",
              "      cursor: pointer;\n",
              "      display: none;\n",
              "      fill: #1967D2;\n",
              "      height: 32px;\n",
              "      padding: 0 0 0 0;\n",
              "      width: 32px;\n",
              "    }\n",
              "\n",
              "    .colab-df-convert:hover {\n",
              "      background-color: #E2EBFA;\n",
              "      box-shadow: 0px 1px 2px rgba(60, 64, 67, 0.3), 0px 1px 3px 1px rgba(60, 64, 67, 0.15);\n",
              "      fill: #174EA6;\n",
              "    }\n",
              "\n",
              "    [theme=dark] .colab-df-convert {\n",
              "      background-color: #3B4455;\n",
              "      fill: #D2E3FC;\n",
              "    }\n",
              "\n",
              "    [theme=dark] .colab-df-convert:hover {\n",
              "      background-color: #434B5C;\n",
              "      box-shadow: 0px 1px 3px 1px rgba(0, 0, 0, 0.15);\n",
              "      filter: drop-shadow(0px 1px 2px rgba(0, 0, 0, 0.3));\n",
              "      fill: #FFFFFF;\n",
              "    }\n",
              "  </style>\n",
              "\n",
              "      <script>\n",
              "        const buttonEl =\n",
              "          document.querySelector('#df-36c01c1c-729b-4a45-ac6e-8cd57849a0c0 button.colab-df-convert');\n",
              "        buttonEl.style.display =\n",
              "          google.colab.kernel.accessAllowed ? 'block' : 'none';\n",
              "\n",
              "        async function convertToInteractive(key) {\n",
              "          const element = document.querySelector('#df-36c01c1c-729b-4a45-ac6e-8cd57849a0c0');\n",
              "          const dataTable =\n",
              "            await google.colab.kernel.invokeFunction('convertToInteractive',\n",
              "                                                     [key], {});\n",
              "          if (!dataTable) return;\n",
              "\n",
              "          const docLinkHtml = 'Like what you see? Visit the ' +\n",
              "            '<a target=\"_blank\" href=https://colab.research.google.com/notebooks/data_table.ipynb>data table notebook</a>'\n",
              "            + ' to learn more about interactive tables.';\n",
              "          element.innerHTML = '';\n",
              "          dataTable['output_type'] = 'display_data';\n",
              "          await google.colab.output.renderOutput(dataTable, element);\n",
              "          const docLink = document.createElement('div');\n",
              "          docLink.innerHTML = docLinkHtml;\n",
              "          element.appendChild(docLink);\n",
              "        }\n",
              "      </script>\n",
              "    </div>\n",
              "  </div>\n",
              "  "
            ]
          },
          "metadata": {},
          "execution_count": 80
        }
      ]
    },
    {
      "cell_type": "markdown",
      "metadata": {
        "id": "EGJmNRm9U8w9"
      },
      "source": [
        "### RandomForest"
      ]
    },
    {
      "cell_type": "markdown",
      "source": [
        "#### 5-fold"
      ],
      "metadata": {
        "id": "zfQwyIEIfDg1"
      }
    },
    {
      "cell_type": "code",
      "execution_count": null,
      "metadata": {
        "colab": {
          "base_uri": "https://localhost:8080/"
        },
        "id": "NyBLefQ0TaH0",
        "outputId": "649ed8d6-5d27-4540-a49c-ae5fac37eef1"
      },
      "outputs": [
        {
          "output_type": "stream",
          "name": "stdout",
          "text": [
            "[0.81818182 0.84090909 0.81818182 0.84090909 0.74418605]\n"
          ]
        }
      ],
      "source": [
        "rand_clf = RandomForestClassifier(n_estimators=13, random_state=42)\n",
        "rand_clf.fit(X_train, y_train)\n",
        "score = cross_val_score(rand_clf, X_train, y_train, cv=k_fold, n_jobs=1, scoring='accuracy')\n",
        "print(score)"
      ]
    },
    {
      "cell_type": "code",
      "execution_count": null,
      "metadata": {
        "colab": {
          "base_uri": "https://localhost:8080/"
        },
        "id": "0KYPpwKNT6rM",
        "outputId": "ef63d353-05e8-4b28-c4ab-c8fff161dbca"
      },
      "outputs": [
        {
          "output_type": "execute_result",
          "data": {
            "text/plain": [
              "81.25"
            ]
          },
          "metadata": {},
          "execution_count": 18
        }
      ],
      "source": [
        "round(np.mean(score) * 100, 2)"
      ]
    },
    {
      "cell_type": "code",
      "execution_count": null,
      "metadata": {
        "colab": {
          "base_uri": "https://localhost:8080/"
        },
        "id": "bcnN8dHkl7ek",
        "outputId": "d1a3ed59-0b63-48aa-a9c8-aacf1773a91c"
      },
      "outputs": [
        {
          "output_type": "stream",
          "name": "stdout",
          "text": [
            "              precision    recall  f1-score   support\n",
            "\n",
            "           0       0.88      0.82      0.85        28\n",
            "           1       0.83      0.89      0.86        27\n",
            "\n",
            "    accuracy                           0.85        55\n",
            "   macro avg       0.86      0.86      0.85        55\n",
            "weighted avg       0.86      0.85      0.85        55\n",
            "\n"
          ]
        }
      ],
      "source": [
        "pred = rand_clf.predict(X_test)\n",
        "print(classification_report(y_test, pred))"
      ]
    },
    {
      "cell_type": "code",
      "execution_count": null,
      "metadata": {
        "colab": {
          "base_uri": "https://localhost:8080/",
          "height": 449
        },
        "id": "eZUJAfAumk-Z",
        "outputId": "a565bfcb-fde3-4d6b-93b5-532a196d4e48"
      },
      "outputs": [
        {
          "output_type": "display_data",
          "data": {
            "text/plain": [
              "<Figure size 640x480 with 2 Axes>"
            ],
            "image/png": "[encoded data removed]"
          },
          "metadata": {}
        }
      ],
      "source": [
        "cm = confusion_matrix(y_test, pred)\n",
        "\n",
        "sns.heatmap(cm, annot=True, cmap='Blues')\n",
        "plt.xlabel('Predicted')\n",
        "plt.ylabel('True')\n",
        "plt.show()"
      ]
    },
    {
      "cell_type": "markdown",
      "source": [
        "#### grid search + 5-fold"
      ],
      "metadata": {
        "id": "u5474wZCfFtd"
      }
    },
    {
      "cell_type": "code",
      "source": [
        "# Random Forest Classifier 객체 생성\n",
        "rand_clf = RandomForestClassifier(random_state=42)\n",
        "\n",
        "# 탐색할 매개변수 그리드 설정\n",
        "param_grid = {\n",
        "    'n_estimators': [10, 50, 100],  # 트리의 개수\n",
        "    'max_depth': [None, 5, 10],  # 트리의 최대 깊이\n",
        "    'min_samples_split': [2, 5, 10]  # 노드를 분할하기 위한 최소 샘플 수\n",
        "}\n",
        "\n",
        "# GridSearchCV를 사용하여 최적의 매개변수 탐색\n",
        "grid_search_rand = GridSearchCV(rand_clf, param_grid=param_grid, cv=k_fold, scoring='accuracy', n_jobs=1)\n",
        "grid_search_rand.fit(X_train, y_train)\n",
        "\n",
        "# 최적의 매개변수와 최고 성능 출력\n",
        "print(\"Best Parameters: \", grid_search_rand.best_params_)\n",
        "print(\"Best Score: \", grid_search_rand.best_score_)"
      ],
      "metadata": {
        "colab": {
          "base_uri": "https://localhost:8080/"
        },
        "id": "QI4lgeqR6Cro",
        "outputId": "3a47cce4-e931-4ff1-9187-fe41568201e7"
      },
      "execution_count": null,
      "outputs": [
        {
          "output_type": "stream",
          "name": "stdout",
          "text": [
            "Best Parameters:  {'max_depth': None, 'min_samples_split': 2, 'n_estimators': 100}\n",
            "Best Score:  0.8215644820295983\n"
          ]
        }
      ]
    },
    {
      "cell_type": "code",
      "source": [
        "pred_rand = grid_search_rand.best_estimator_.predict(X_test)\n",
        "print(classification_report(y_test, pred_rand))\n",
        "accuracy = accuracy_score(y_test, pred_rand)\n",
        "print(f'Mean accuracy score: {accuracy:.3}')"
      ],
      "metadata": {
        "colab": {
          "base_uri": "https://localhost:8080/"
        },
        "id": "oWsGCWx98goH",
        "outputId": "41a488cb-35ce-4788-e7eb-4b6ec9a065a8"
      },
      "execution_count": null,
      "outputs": [
        {
          "output_type": "stream",
          "name": "stdout",
          "text": [
            "              precision    recall  f1-score   support\n",
            "\n",
            "           0       0.89      0.86      0.87        28\n",
            "           1       0.86      0.89      0.87        27\n",
            "\n",
            "    accuracy                           0.87        55\n",
            "   macro avg       0.87      0.87      0.87        55\n",
            "weighted avg       0.87      0.87      0.87        55\n",
            "\n",
            "Mean accuracy score: 0.873\n"
          ]
        }
      ]
    },
    {
      "cell_type": "code",
      "source": [
        "cm = confusion_matrix(y_test, pred_rand)\n",
        "\n",
        "sns.heatmap(cm, annot=True, cmap='Blues')\n",
        "plt.title('RandomForest Confusion Matrix')\n",
        "plt.xlabel('Predicted')\n",
        "plt.ylabel('True')\n",
        "plt.show()"
      ],
      "metadata": {
        "colab": {
          "base_uri": "https://localhost:8080/",
          "height": 472
        },
        "id": "szR0iMSZdAC9",
        "outputId": "2ab92745-d8b0-4268-9fd7-a5159b7344ab"
      },
      "execution_count": null,
      "outputs": [
        {
          "output_type": "display_data",
          "data": {
            "text/plain": [
              "<Figure size 640x480 with 2 Axes>"
            ],
            "image/png": "[encoded data removed]"
          },
          "metadata": {}
        }
      ]
    },
    {
      "cell_type": "code",
      "source": [
        "# 예측이 틀린 결과의 인덱스 가져오기\n",
        "incorrect_indices = np.where(pred_rand != y_test)[0]\n",
        "\n",
        "# 예측이 틀린 데이터의 내용 출력\n",
        "print(\"Incorrect Prediction:\")\n",
        "for index in incorrect_indices:\n",
        "    print(\"<Input Data>\")\n",
        "    print(X_test.iloc[index, :])\n",
        "    print(\"True Label:\", y_test[index])\n",
        "    print(\"Predicted Label:\", pred_rand[index])\n",
        "    print(\"-------------------\")"
      ],
      "metadata": {
        "colab": {
          "base_uri": "https://localhost:8080/"
        },
        "id": "72uk9lBefKxY",
        "outputId": "d9a99302-0406-4ee6-af06-02271e7629db"
      },
      "execution_count": null,
      "outputs": [
        {
          "output_type": "stream",
          "name": "stdout",
          "text": [
            "Incorrect Prediction:\n",
            "<Input Data>\n",
            "관심수                1.0\n",
            "장르_라이트노벨           1.0\n",
            "장르_로맨스             0.0\n",
            "장르_로판              0.0\n",
            "장르_무협              0.0\n",
            "장르_미스터리            0.0\n",
            "장르_판타지             0.0\n",
            "장르_현판              0.0\n",
            "총합 별점             10.0\n",
            "평균 공백 제거 글자수    2514.2\n",
            "평균 댓글 수            0.2\n",
            "평균 업로드 간격          4.0\n",
            "평균 조회수            63.4\n",
            "Name: 삶의 절망에 빠진 60대 엄마에 딸이, dtype: float64\n",
            "True Label: 1\n",
            "Predicted Label: 0\n",
            "-------------------\n",
            "<Input Data>\n",
            "관심수              344.00\n",
            "장르_라이트노벨           0.00\n",
            "장르_로맨스             1.00\n",
            "장르_로판              0.00\n",
            "장르_무협              0.00\n",
            "장르_미스터리            0.00\n",
            "장르_판타지             0.00\n",
            "장르_현판              0.00\n",
            "총합 별점             10.00\n",
            "평균 공백 제거 글자수    4158.00\n",
            "평균 댓글 수            3.80\n",
            "평균 업로드 간격          4.25\n",
            "평균 조회수          3117.00\n",
            "Name: 나의 친구, 다정한 완벽주의자, dtype: float64\n",
            "True Label: 0\n",
            "Predicted Label: 1\n",
            "-------------------\n",
            "<Input Data>\n",
            "관심수              361.0\n",
            "장르_라이트노벨           0.0\n",
            "장르_로맨스             0.0\n",
            "장르_로판              1.0\n",
            "장르_무협              0.0\n",
            "장르_미스터리            0.0\n",
            "장르_판타지             0.0\n",
            "장르_현판              0.0\n",
            "총합 별점             10.0\n",
            "평균 공백 제거 글자수    4678.4\n",
            "평균 댓글 수            0.8\n",
            "평균 업로드 간격          1.5\n",
            "평균 조회수          9383.4\n",
            "Name: 이번 생은 내가 떠나겠다, dtype: float64\n",
            "True Label: 0\n",
            "Predicted Label: 1\n",
            "-------------------\n",
            "<Input Data>\n",
            "관심수               11.0\n",
            "장르_라이트노벨           1.0\n",
            "장르_로맨스             0.0\n",
            "장르_로판              0.0\n",
            "장르_무협              0.0\n",
            "장르_미스터리            0.0\n",
            "장르_판타지             0.0\n",
            "장르_현판              0.0\n",
            "총합 별점             10.0\n",
            "평균 공백 제거 글자수    4531.8\n",
            "평균 댓글 수            0.4\n",
            "평균 업로드 간격          0.0\n",
            "평균 조회수           276.2\n",
            "Name: 당신 아이 데려가세요, dtype: float64\n",
            "True Label: 0\n",
            "Predicted Label: 1\n",
            "-------------------\n",
            "<Input Data>\n",
            "관심수               21.00\n",
            "장르_라이트노벨           0.00\n",
            "장르_로맨스             0.00\n",
            "장르_로판              0.00\n",
            "장르_무협              0.00\n",
            "장르_미스터리            0.00\n",
            "장르_판타지             0.00\n",
            "장르_현판              1.00\n",
            "총합 별점              9.59\n",
            "평균 공백 제거 글자수    1862.40\n",
            "평균 댓글 수            0.00\n",
            "평균 업로드 간격          0.00\n",
            "평균 조회수           381.20\n",
            "Name: 채굴을 시작합니다., dtype: float64\n",
            "True Label: 1\n",
            "Predicted Label: 0\n",
            "-------------------\n",
            "<Input Data>\n",
            "관심수              140.00\n",
            "장르_라이트노벨           1.00\n",
            "장르_로맨스             0.00\n",
            "장르_로판              0.00\n",
            "장르_무협              0.00\n",
            "장르_미스터리            0.00\n",
            "장르_판타지             0.00\n",
            "장르_현판              0.00\n",
            "총합 별점              9.43\n",
            "평균 공백 제거 글자수    2847.60\n",
            "평균 댓글 수            4.00\n",
            "평균 업로드 간격          0.75\n",
            "평균 조회수          2170.40\n",
            "Name: 악명 높기로 악명 높은 자, dtype: float64\n",
            "True Label: 0\n",
            "Predicted Label: 1\n",
            "-------------------\n",
            "<Input Data>\n",
            "관심수                3.00\n",
            "장르_라이트노벨           1.00\n",
            "장르_로맨스             0.00\n",
            "장르_로판              0.00\n",
            "장르_무협              0.00\n",
            "장르_미스터리            0.00\n",
            "장르_판타지             0.00\n",
            "장르_현판              0.00\n",
            "총합 별점              0.00\n",
            "평균 공백 제거 글자수    4216.40\n",
            "평균 댓글 수            0.00\n",
            "평균 업로드 간격          0.25\n",
            "평균 조회수            14.80\n",
            "Name: 성검학원의 듀라한, dtype: float64\n",
            "True Label: 1\n",
            "Predicted Label: 0\n",
            "-------------------\n"
          ]
        }
      ]
    },
    {
      "cell_type": "code",
      "source": [
        "# 예측이 틀린 데이터를 데이터프레임으로 저장\n",
        "incorrect_rand = X_test.iloc[incorrect_indices, :]\n",
        "incorrect_rand['True Label'] = y_test[incorrect_indices]\n",
        "incorrect_rand['Predicted Label'] = pred_svm[incorrect_indices]\n",
        "\n",
        "# 데이터프레임 출력\n",
        "print(\"Incorrect Prediction:\")\n",
        "incorrect_rand"
      ],
      "metadata": {
        "colab": {
          "base_uri": "https://localhost:8080/",
          "height": 1000
        },
        "id": "wt4bBGpbpvnK",
        "outputId": "0f671151-f435-4478-cf1a-14be3aa13b97"
      },
      "execution_count": null,
      "outputs": [
        {
          "output_type": "stream",
          "name": "stdout",
          "text": [
            "Incorrect Prediction:\n"
          ]
        },
        {
          "output_type": "stream",
          "name": "stderr",
          "text": [
            "<ipython-input-82-1067a9393fe5>:3: SettingWithCopyWarning: \n",
            "A value is trying to be set on a copy of a slice from a DataFrame.\n",
            "Try using .loc[row_indexer,col_indexer] = value instead\n",
            "\n",
            "See the caveats in the documentation: https://pandas.pydata.org/pandas-docs/stable/user_guide/indexing.html#returning-a-view-versus-a-copy\n",
            "  incorrect_rand['True Label'] = y_test[incorrect_indices]\n",
            "<ipython-input-82-1067a9393fe5>:4: SettingWithCopyWarning: \n",
            "A value is trying to be set on a copy of a slice from a DataFrame.\n",
            "Try using .loc[row_indexer,col_indexer] = value instead\n",
            "\n",
            "See the caveats in the documentation: https://pandas.pydata.org/pandas-docs/stable/user_guide/indexing.html#returning-a-view-versus-a-copy\n",
            "  incorrect_rand['Predicted Label'] = pred_svm[incorrect_indices]\n"
          ]
        },
        {
          "output_type": "execute_result",
          "data": {
            "text/plain": [
              "                      관심수  장르_라이트노벨  장르_로맨스  장르_로판  장르_무협  장르_미스터리  장르_판타지  \\\n",
              "이름                                                                           \n",
              "삶의 절망에 빠진 60대 엄마에 딸이    1         1       0      0      0        0       0   \n",
              "나의 친구, 다정한 완벽주의자      344         0       1      0      0        0       0   \n",
              "이번 생은 내가 떠나겠다         361         0       0      1      0        0       0   \n",
              "당신 아이 데려가세요            11         1       0      0      0        0       0   \n",
              "채굴을 시작합니다.             21         0       0      0      0        0       0   \n",
              "악명 높기로 악명 높은 자        140         1       0      0      0        0       0   \n",
              "성검학원의 듀라한               3         1       0      0      0        0       0   \n",
              "\n",
              "                      장르_현판  총합 별점  평균 공백 제거 글자수  평균 댓글 수  평균 업로드 간격  평균 조회수  \\\n",
              "이름                                                                             \n",
              "삶의 절망에 빠진 60대 엄마에 딸이      0  10.00        2514.2      0.2       4.00    63.4   \n",
              "나의 친구, 다정한 완벽주의자          0  10.00        4158.0      3.8       4.25  3117.0   \n",
              "이번 생은 내가 떠나겠다             0  10.00        4678.4      0.8       1.50  9383.4   \n",
              "당신 아이 데려가세요               0  10.00        4531.8      0.4       0.00   276.2   \n",
              "채굴을 시작합니다.                1   9.59        1862.4      0.0       0.00   381.2   \n",
              "악명 높기로 악명 높은 자            0   9.43        2847.6      4.0       0.75  2170.4   \n",
              "성검학원의 듀라한                 0   0.00        4216.4      0.0       0.25    14.8   \n",
              "\n",
              "                      True Label  Predicted Label  \n",
              "이름                                                 \n",
              "삶의 절망에 빠진 60대 엄마에 딸이           1                0  \n",
              "나의 친구, 다정한 완벽주의자               0                1  \n",
              "이번 생은 내가 떠나겠다                  0                1  \n",
              "당신 아이 데려가세요                    0                1  \n",
              "채굴을 시작합니다.                     1                1  \n",
              "악명 높기로 악명 높은 자                 0                1  \n",
              "성검학원의 듀라한                      1                0  "
            ],
            "text/html": [
              "\n",
              "  <div id=\"df-a9d953ac-7866-4270-8a06-94643e4db3e7\">\n",
              "    <div class=\"colab-df-container\">\n",
              "      <div>\n",
              "<style scoped>\n",
              "    .dataframe tbody tr th:only-of-type {\n",
              "        vertical-align: middle;\n",
              "    }\n",
              "\n",
              "    .dataframe tbody tr th {\n",
              "        vertical-align: top;\n",
              "    }\n",
              "\n",
              "    .dataframe thead th {\n",
              "        text-align: right;\n",
              "    }\n",
              "</style>\n",
              "<table border=\"1\" class=\"dataframe\">\n",
              "  <thead>\n",
              "    <tr style=\"text-align: right;\">\n",
              "      <th></th>\n",
              "      <th>관심수</th>\n",
              "      <th>장르_라이트노벨</th>\n",
              "      <th>장르_로맨스</th>\n",
              "      <th>장르_로판</th>\n",
              "      <th>장르_무협</th>\n",
              "      <th>장르_미스터리</th>\n",
              "      <th>장르_판타지</th>\n",
              "      <th>장르_현판</th>\n",
              "      <th>총합 별점</th>\n",
              "      <th>평균 공백 제거 글자수</th>\n",
              "      <th>평균 댓글 수</th>\n",
              "      <th>평균 업로드 간격</th>\n",
              "      <th>평균 조회수</th>\n",
              "      <th>True Label</th>\n",
              "      <th>Predicted Label</th>\n",
              "    </tr>\n",
              "    <tr>\n",
              "      <th>이름</th>\n",
              "      <th></th>\n",
              "      <th></th>\n",
              "      <th></th>\n",
              "      <th></th>\n",
              "      <th></th>\n",
              "      <th></th>\n",
              "      <th></th>\n",
              "      <th></th>\n",
              "      <th></th>\n",
              "      <th></th>\n",
              "      <th></th>\n",
              "      <th></th>\n",
              "      <th></th>\n",
              "      <th></th>\n",
              "      <th></th>\n",
              "    </tr>\n",
              "  </thead>\n",
              "  <tbody>\n",
              "    <tr>\n",
              "      <th>삶의 절망에 빠진 60대 엄마에 딸이</th>\n",
              "      <td>1</td>\n",
              "      <td>1</td>\n",
              "      <td>0</td>\n",
              "      <td>0</td>\n",
              "      <td>0</td>\n",
              "      <td>0</td>\n",
              "      <td>0</td>\n",
              "      <td>0</td>\n",
              "      <td>10.00</td>\n",
              "      <td>2514.2</td>\n",
              "      <td>0.2</td>\n",
              "      <td>4.00</td>\n",
              "      <td>63.4</td>\n",
              "      <td>1</td>\n",
              "      <td>0</td>\n",
              "    </tr>\n",
              "    <tr>\n",
              "      <th>나의 친구, 다정한 완벽주의자</th>\n",
              "      <td>344</td>\n",
              "      <td>0</td>\n",
              "      <td>1</td>\n",
              "      <td>0</td>\n",
              "      <td>0</td>\n",
              "      <td>0</td>\n",
              "      <td>0</td>\n",
              "      <td>0</td>\n",
              "      <td>10.00</td>\n",
              "      <td>4158.0</td>\n",
              "      <td>3.8</td>\n",
              "      <td>4.25</td>\n",
              "      <td>3117.0</td>\n",
              "      <td>0</td>\n",
              "      <td>1</td>\n",
              "    </tr>\n",
              "    <tr>\n",
              "      <th>이번 생은 내가 떠나겠다</th>\n",
              "      <td>361</td>\n",
              "      <td>0</td>\n",
              "      <td>0</td>\n",
              "      <td>1</td>\n",
              "      <td>0</td>\n",
              "      <td>0</td>\n",
              "      <td>0</td>\n",
              "      <td>0</td>\n",
              "      <td>10.00</td>\n",
              "      <td>4678.4</td>\n",
              "      <td>0.8</td>\n",
              "      <td>1.50</td>\n",
              "      <td>9383.4</td>\n",
              "      <td>0</td>\n",
              "      <td>1</td>\n",
              "    </tr>\n",
              "    <tr>\n",
              "      <th>당신 아이 데려가세요</th>\n",
              "      <td>11</td>\n",
              "      <td>1</td>\n",
              "      <td>0</td>\n",
              "      <td>0</td>\n",
              "      <td>0</td>\n",
              "      <td>0</td>\n",
              "      <td>0</td>\n",
              "      <td>0</td>\n",
              "      <td>10.00</td>\n",
              "      <td>4531.8</td>\n",
              "      <td>0.4</td>\n",
              "      <td>0.00</td>\n",
              "      <td>276.2</td>\n",
              "      <td>0</td>\n",
              "      <td>1</td>\n",
              "    </tr>\n",
              "    <tr>\n",
              "      <th>채굴을 시작합니다.</th>\n",
              "      <td>21</td>\n",
              "      <td>0</td>\n",
              "      <td>0</td>\n",
              "      <td>0</td>\n",
              "      <td>0</td>\n",
              "      <td>0</td>\n",
              "      <td>0</td>\n",
              "      <td>1</td>\n",
              "      <td>9.59</td>\n",
              "      <td>1862.4</td>\n",
              "      <td>0.0</td>\n",
              "      <td>0.00</td>\n",
              "      <td>381.2</td>\n",
              "      <td>1</td>\n",
              "      <td>1</td>\n",
              "    </tr>\n",
              "    <tr>\n",
              "      <th>악명 높기로 악명 높은 자</th>\n",
              "      <td>140</td>\n",
              "      <td>1</td>\n",
              "      <td>0</td>\n",
              "      <td>0</td>\n",
              "      <td>0</td>\n",
              "      <td>0</td>\n",
              "      <td>0</td>\n",
              "      <td>0</td>\n",
              "      <td>9.43</td>\n",
              "      <td>2847.6</td>\n",
              "      <td>4.0</td>\n",
              "      <td>0.75</td>\n",
              "      <td>2170.4</td>\n",
              "      <td>0</td>\n",
              "      <td>1</td>\n",
              "    </tr>\n",
              "    <tr>\n",
              "      <th>성검학원의 듀라한</th>\n",
              "      <td>3</td>\n",
              "      <td>1</td>\n",
              "      <td>0</td>\n",
              "      <td>0</td>\n",
              "      <td>0</td>\n",
              "      <td>0</td>\n",
              "      <td>0</td>\n",
              "      <td>0</td>\n",
              "      <td>0.00</td>\n",
              "      <td>4216.4</td>\n",
              "      <td>0.0</td>\n",
              "      <td>0.25</td>\n",
              "      <td>14.8</td>\n",
              "      <td>1</td>\n",
              "      <td>0</td>\n",
              "    </tr>\n",
              "  </tbody>\n",
              "</table>\n",
              "</div>\n",
              "      <button class=\"colab-df-convert\" onclick=\"convertToInteractive('df-a9d953ac-7866-4270-8a06-94643e4db3e7')\"\n",
              "              title=\"Convert this dataframe to an interactive table.\"\n",
              "              style=\"display:none;\">\n",
              "        \n",
              "  <svg xmlns=\"http://www.w3.org/2000/svg\" height=\"24px\"viewBox=\"0 0 24 24\"\n",
              "       width=\"24px\">\n",
              "    <path d=\"M0 0h24v24H0V0z\" fill=\"none\"/>\n",
              "    <path d=\"M18.56 5.44l.94 2.06.94-2.06 2.06-.94-2.06-.94-.94-2.06-.94 2.06-2.06.94zm-11 1L8.5 8.5l.94-2.06 2.06-.94-2.06-.94L8.5 2.5l-.94 2.06-2.06.94zm10 10l.94 2.06.94-2.06 2.06-.94-2.06-.94-.94-2.06-.94 2.06-2.06.94z\"/><path d=\"M17.41 7.96l-1.37-1.37c-.4-.4-.92-.59-1.43-.59-.52 0-1.04.2-1.43.59L10.3 9.45l-7.72 7.72c-.78.78-.78 2.05 0 2.83L4 21.41c.39.39.9.59 1.41.59.51 0 1.02-.2 1.41-.59l7.78-7.78 2.81-2.81c.8-.78.8-2.07 0-2.86zM5.41 20L4 18.59l7.72-7.72 1.47 1.35L5.41 20z\"/>\n",
              "  </svg>\n",
              "      </button>\n",
              "      \n",
              "  <style>\n",
              "    .colab-df-container {\n",
              "      display:flex;\n",
              "      flex-wrap:wrap;\n",
              "      gap: 12px;\n",
              "    }\n",
              "\n",
              "    .colab-df-convert {\n",
              "      background-color: #E8F0FE;\n",
              "      border: none;\n",
              "      border-radius: 50%;\n",
              "      cursor: pointer;\n",
              "      display: none;\n",
              "      fill: #1967D2;\n",
              "      height: 32px;\n",
              "      padding: 0 0 0 0;\n",
              "      width: 32px;\n",
              "    }\n",
              "\n",
              "    .colab-df-convert:hover {\n",
              "      background-color: #E2EBFA;\n",
              "      box-shadow: 0px 1px 2px rgba(60, 64, 67, 0.3), 0px 1px 3px 1px rgba(60, 64, 67, 0.15);\n",
              "      fill: #174EA6;\n",
              "    }\n",
              "\n",
              "    [theme=dark] .colab-df-convert {\n",
              "      background-color: #3B4455;\n",
              "      fill: #D2E3FC;\n",
              "    }\n",
              "\n",
              "    [theme=dark] .colab-df-convert:hover {\n",
              "      background-color: #434B5C;\n",
              "      box-shadow: 0px 1px 3px 1px rgba(0, 0, 0, 0.15);\n",
              "      filter: drop-shadow(0px 1px 2px rgba(0, 0, 0, 0.3));\n",
              "      fill: #FFFFFF;\n",
              "    }\n",
              "  </style>\n",
              "\n",
              "      <script>\n",
              "        const buttonEl =\n",
              "          document.querySelector('#df-a9d953ac-7866-4270-8a06-94643e4db3e7 button.colab-df-convert');\n",
              "        buttonEl.style.display =\n",
              "          google.colab.kernel.accessAllowed ? 'block' : 'none';\n",
              "\n",
              "        async function convertToInteractive(key) {\n",
              "          const element = document.querySelector('#df-a9d953ac-7866-4270-8a06-94643e4db3e7');\n",
              "          const dataTable =\n",
              "            await google.colab.kernel.invokeFunction('convertToInteractive',\n",
              "                                                     [key], {});\n",
              "          if (!dataTable) return;\n",
              "\n",
              "          const docLinkHtml = 'Like what you see? Visit the ' +\n",
              "            '<a target=\"_blank\" href=https://colab.research.google.com/notebooks/data_table.ipynb>data table notebook</a>'\n",
              "            + ' to learn more about interactive tables.';\n",
              "          element.innerHTML = '';\n",
              "          dataTable['output_type'] = 'display_data';\n",
              "          await google.colab.output.renderOutput(dataTable, element);\n",
              "          const docLink = document.createElement('div');\n",
              "          docLink.innerHTML = docLinkHtml;\n",
              "          element.appendChild(docLink);\n",
              "        }\n",
              "      </script>\n",
              "    </div>\n",
              "  </div>\n",
              "  "
            ]
          },
          "metadata": {},
          "execution_count": 82
        }
      ]
    },
    {
      "cell_type": "markdown",
      "metadata": {
        "id": "CDiaiK4VU_LY"
      },
      "source": [
        "### Gradient Boosting"
      ]
    },
    {
      "cell_type": "markdown",
      "source": [
        "#### 5-fold"
      ],
      "metadata": {
        "id": "9ta_1rqSfkFg"
      }
    },
    {
      "cell_type": "code",
      "execution_count": null,
      "metadata": {
        "colab": {
          "base_uri": "https://localhost:8080/"
        },
        "id": "hpJnLpqvUyW9",
        "outputId": "a49e3c86-0a09-498b-f358-a19d215308f7"
      },
      "outputs": [
        {
          "output_type": "stream",
          "name": "stdout",
          "text": [
            "[0.79545455 0.77272727 0.79545455 0.86363636 0.81395349]\n"
          ]
        }
      ],
      "source": [
        "from sklearn.ensemble import GradientBoostingClassifier\n",
        "\n",
        "gb_clf = GradientBoostingClassifier(random_state=42)\n",
        "gb_clf.fit(X_train, y_train)\n",
        "score = cross_val_score(gb_clf, X_train, y_train, cv=k_fold, n_jobs=1, scoring='accuracy')\n",
        "print(score)"
      ]
    },
    {
      "cell_type": "code",
      "execution_count": null,
      "metadata": {
        "colab": {
          "base_uri": "https://localhost:8080/"
        },
        "id": "mUG_W-XvVb3r",
        "outputId": "3ee52ca0-b060-481a-e0b3-cdd26e4ed447"
      },
      "outputs": [
        {
          "output_type": "execute_result",
          "data": {
            "text/plain": [
              "80.82"
            ]
          },
          "metadata": {},
          "execution_count": 25
        }
      ],
      "source": [
        "round(np.mean(score) * 100, 2)"
      ]
    },
    {
      "cell_type": "code",
      "execution_count": null,
      "metadata": {
        "colab": {
          "base_uri": "https://localhost:8080/"
        },
        "id": "NTmbHkvsnc_D",
        "outputId": "0f9a5708-da4d-4080-8e3b-87cd6f77b829"
      },
      "outputs": [
        {
          "output_type": "stream",
          "name": "stdout",
          "text": [
            "              precision    recall  f1-score   support\n",
            "\n",
            "           0       0.92      0.82      0.87        28\n",
            "           1       0.83      0.93      0.88        27\n",
            "\n",
            "    accuracy                           0.87        55\n",
            "   macro avg       0.88      0.87      0.87        55\n",
            "weighted avg       0.88      0.87      0.87        55\n",
            "\n"
          ]
        }
      ],
      "source": [
        "pred = gb_clf.predict(X_test)\n",
        "print(classification_report(y_test, pred))"
      ]
    },
    {
      "cell_type": "code",
      "execution_count": null,
      "metadata": {
        "colab": {
          "base_uri": "https://localhost:8080/",
          "height": 455
        },
        "id": "DdQvJePVnc_F",
        "outputId": "85ce9d4c-dc3c-43f6-add9-9bc6ce85c7df"
      },
      "outputs": [
        {
          "output_type": "display_data",
          "data": {
            "text/plain": [
              "<Figure size 640x480 with 2 Axes>"
            ],
            "image/png": "[encoded data removed]"
          },
          "metadata": {}
        }
      ],
      "source": [
        "cm = confusion_matrix(y_test, pred)\n",
        "\n",
        "sns.heatmap(cm, annot=True, cmap='Blues')\n",
        "plt.xlabel('Predicted')\n",
        "plt.ylabel('True')\n",
        "plt.show()"
      ]
    },
    {
      "cell_type": "markdown",
      "source": [
        "#### grid search + 5-fold"
      ],
      "metadata": {
        "id": "kHB5Su2BfmB0"
      }
    },
    {
      "cell_type": "code",
      "source": [
        "# 탐색할 매개변수 그리드 설정\n",
        "param_grid = {\n",
        "    'n_estimators': [50, 100, 200],  # 트리의 개수\n",
        "    'learning_rate': [0.1, 0.05, 0.01],  # 학습률\n",
        "    'max_depth': [3, 5, 7]  # 트리의 최대 깊이\n",
        "}\n",
        "\n",
        "# GridSearchCV를 사용하여 최적의 매개변수 탐색\n",
        "grid_search_gb = GridSearchCV(gb_clf, param_grid=param_grid, cv=k_fold, scoring='accuracy', n_jobs=1)\n",
        "grid_search_gb.fit(X_train, y_train)\n",
        "\n",
        "# 최적의 매개변수와 최고 성능 출력\n",
        "print(\"Best Parameters: \", grid_search_gb.best_params_)\n",
        "print(\"Best Score: \", grid_search_gb.best_score_)"
      ],
      "metadata": {
        "colab": {
          "base_uri": "https://localhost:8080/"
        },
        "id": "m2HpbXby4nQ6",
        "outputId": "78c9704a-3625-48fa-c7a7-d951294f407a"
      },
      "execution_count": null,
      "outputs": [
        {
          "output_type": "stream",
          "name": "stdout",
          "text": [
            "Best Parameters:  {'learning_rate': 0.1, 'max_depth': 3, 'n_estimators': 200}\n",
            "Best Score:  0.8447145877378436\n"
          ]
        }
      ]
    },
    {
      "cell_type": "code",
      "source": [
        "pred_gb = grid_search_gb.best_estimator_.predict(X_test)\n",
        "print(classification_report(y_test, pred_gb))\n",
        "accuracy = accuracy_score(y_test, pred_gb)\n",
        "print(f'Mean accuracy score: {accuracy:.3}')"
      ],
      "metadata": {
        "colab": {
          "base_uri": "https://localhost:8080/"
        },
        "id": "Emza1qQC83bI",
        "outputId": "febcd852-dacf-444b-fa03-cbb003da004a"
      },
      "execution_count": null,
      "outputs": [
        {
          "output_type": "stream",
          "name": "stdout",
          "text": [
            "              precision    recall  f1-score   support\n",
            "\n",
            "           0       0.92      0.82      0.87        28\n",
            "           1       0.83      0.93      0.88        27\n",
            "\n",
            "    accuracy                           0.87        55\n",
            "   macro avg       0.88      0.87      0.87        55\n",
            "weighted avg       0.88      0.87      0.87        55\n",
            "\n",
            "Mean accuracy score: 0.873\n"
          ]
        }
      ]
    },
    {
      "cell_type": "code",
      "source": [
        "cm = confusion_matrix(y_test, pred_gb)\n",
        "\n",
        "sns.heatmap(cm, annot=True, cmap='Blues')\n",
        "plt.title('Gradient Boost Confusion Matrix')\n",
        "plt.xlabel('Predicted')\n",
        "plt.ylabel('True')\n",
        "plt.show()"
      ],
      "metadata": {
        "colab": {
          "base_uri": "https://localhost:8080/",
          "height": 472
        },
        "id": "pvcrHNtLcSHd",
        "outputId": "65832839-685a-48ab-b63e-00b8eafa6d06"
      },
      "execution_count": null,
      "outputs": [
        {
          "output_type": "display_data",
          "data": {
            "text/plain": [
              "<Figure size 640x480 with 2 Axes>"
            ],
            "image/png": "[encoded data removed]"
          },
          "metadata": {}
        }
      ]
    },
    {
      "cell_type": "code",
      "execution_count": null,
      "metadata": {
        "colab": {
          "base_uri": "https://localhost:8080/"
        },
        "id": "-gOcjYIKVfE_",
        "outputId": "24369817-651c-4ef0-9e6a-cdfb78b3604e"
      },
      "outputs": [
        {
          "output_type": "stream",
          "name": "stdout",
          "text": [
            "Incorrect Prediction:\n",
            "<Input Data>\n",
            "관심수                1.0\n",
            "장르_라이트노벨           1.0\n",
            "장르_로맨스             0.0\n",
            "장르_로판              0.0\n",
            "장르_무협              0.0\n",
            "장르_미스터리            0.0\n",
            "장르_판타지             0.0\n",
            "장르_현판              0.0\n",
            "총합 별점             10.0\n",
            "평균 공백 제거 글자수    2514.2\n",
            "평균 댓글 수            0.2\n",
            "평균 업로드 간격          4.0\n",
            "평균 조회수            63.4\n",
            "Name: 삶의 절망에 빠진 60대 엄마에 딸이, dtype: float64\n",
            "True Label: 1\n",
            "Predicted Label: 0\n",
            "-------------------\n",
            "<Input Data>\n",
            "관심수              344.00\n",
            "장르_라이트노벨           0.00\n",
            "장르_로맨스             1.00\n",
            "장르_로판              0.00\n",
            "장르_무협              0.00\n",
            "장르_미스터리            0.00\n",
            "장르_판타지             0.00\n",
            "장르_현판              0.00\n",
            "총합 별점             10.00\n",
            "평균 공백 제거 글자수    4158.00\n",
            "평균 댓글 수            3.80\n",
            "평균 업로드 간격          4.25\n",
            "평균 조회수          3117.00\n",
            "Name: 나의 친구, 다정한 완벽주의자, dtype: float64\n",
            "True Label: 0\n",
            "Predicted Label: 1\n",
            "-------------------\n",
            "<Input Data>\n",
            "관심수              361.0\n",
            "장르_라이트노벨           0.0\n",
            "장르_로맨스             0.0\n",
            "장르_로판              1.0\n",
            "장르_무협              0.0\n",
            "장르_미스터리            0.0\n",
            "장르_판타지             0.0\n",
            "장르_현판              0.0\n",
            "총합 별점             10.0\n",
            "평균 공백 제거 글자수    4678.4\n",
            "평균 댓글 수            0.8\n",
            "평균 업로드 간격          1.5\n",
            "평균 조회수          9383.4\n",
            "Name: 이번 생은 내가 떠나겠다, dtype: float64\n",
            "True Label: 0\n",
            "Predicted Label: 1\n",
            "-------------------\n",
            "<Input Data>\n",
            "관심수               11.0\n",
            "장르_라이트노벨           1.0\n",
            "장르_로맨스             0.0\n",
            "장르_로판              0.0\n",
            "장르_무협              0.0\n",
            "장르_미스터리            0.0\n",
            "장르_판타지             0.0\n",
            "장르_현판              0.0\n",
            "총합 별점             10.0\n",
            "평균 공백 제거 글자수    4531.8\n",
            "평균 댓글 수            0.4\n",
            "평균 업로드 간격          0.0\n",
            "평균 조회수           276.2\n",
            "Name: 당신 아이 데려가세요, dtype: float64\n",
            "True Label: 0\n",
            "Predicted Label: 1\n",
            "-------------------\n",
            "<Input Data>\n",
            "관심수              140.00\n",
            "장르_라이트노벨           1.00\n",
            "장르_로맨스             0.00\n",
            "장르_로판              0.00\n",
            "장르_무협              0.00\n",
            "장르_미스터리            0.00\n",
            "장르_판타지             0.00\n",
            "장르_현판              0.00\n",
            "총합 별점              9.43\n",
            "평균 공백 제거 글자수    2847.60\n",
            "평균 댓글 수            4.00\n",
            "평균 업로드 간격          0.75\n",
            "평균 조회수          2170.40\n",
            "Name: 악명 높기로 악명 높은 자, dtype: float64\n",
            "True Label: 0\n",
            "Predicted Label: 1\n",
            "-------------------\n",
            "<Input Data>\n",
            "관심수                3.00\n",
            "장르_라이트노벨           1.00\n",
            "장르_로맨스             0.00\n",
            "장르_로판              0.00\n",
            "장르_무협              0.00\n",
            "장르_미스터리            0.00\n",
            "장르_판타지             0.00\n",
            "장르_현판              0.00\n",
            "총합 별점              0.00\n",
            "평균 공백 제거 글자수    4216.40\n",
            "평균 댓글 수            0.00\n",
            "평균 업로드 간격          0.25\n",
            "평균 조회수            14.80\n",
            "Name: 성검학원의 듀라한, dtype: float64\n",
            "True Label: 1\n",
            "Predicted Label: 0\n",
            "-------------------\n",
            "<Input Data>\n",
            "관심수               11.00\n",
            "장르_라이트노벨           1.00\n",
            "장르_로맨스             0.00\n",
            "장르_로판              0.00\n",
            "장르_무협              0.00\n",
            "장르_미스터리            0.00\n",
            "장르_판타지             0.00\n",
            "장르_현판              0.00\n",
            "총합 별점              9.94\n",
            "평균 공백 제거 글자수    2385.60\n",
            "평균 댓글 수            0.80\n",
            "평균 업로드 간격          1.50\n",
            "평균 조회수           535.00\n",
            "Name: 바뀌어버린 세계, dtype: float64\n",
            "True Label: 0\n",
            "Predicted Label: 1\n",
            "-------------------\n"
          ]
        }
      ],
      "source": [
        "# 예측이 틀린 결과의 인덱스 가져오기\n",
        "incorrect_indices = np.where(pred_gb != y_test)[0]\n",
        "\n",
        "# 예측이 틀린 데이터의 내용 출력\n",
        "print(\"Incorrect Prediction:\")\n",
        "for index in incorrect_indices:\n",
        "    print(\"<Input Data>\")\n",
        "    print(X_test.iloc[index, :])\n",
        "    print(\"True Label:\", y_test[index])\n",
        "    print(\"Predicted Label:\", pred_gb[index])\n",
        "    print(\"-------------------\")"
      ]
    },
    {
      "cell_type": "code",
      "source": [
        "# 예측이 틀린 데이터를 데이터프레임으로 저장\n",
        "incorrect_gb = X_test.iloc[incorrect_indices, :]\n",
        "incorrect_gb['True Label'] = y_test[incorrect_indices]\n",
        "incorrect_gb['Predicted Label'] = pred_svm[incorrect_indices]\n",
        "\n",
        "# 데이터프레임 출력\n",
        "print(\"Incorrect Prediction:\")\n",
        "incorrect_gb"
      ],
      "metadata": {
        "colab": {
          "base_uri": "https://localhost:8080/",
          "height": 1000
        },
        "id": "mAGLqfReqeMA",
        "outputId": "495c5eef-5564-4b1e-f6f9-02022e847467"
      },
      "execution_count": null,
      "outputs": [
        {
          "output_type": "stream",
          "name": "stdout",
          "text": [
            "Incorrect Prediction:\n"
          ]
        },
        {
          "output_type": "stream",
          "name": "stderr",
          "text": [
            "<ipython-input-84-71a8214caf4d>:3: SettingWithCopyWarning: \n",
            "A value is trying to be set on a copy of a slice from a DataFrame.\n",
            "Try using .loc[row_indexer,col_indexer] = value instead\n",
            "\n",
            "See the caveats in the documentation: https://pandas.pydata.org/pandas-docs/stable/user_guide/indexing.html#returning-a-view-versus-a-copy\n",
            "  incorrect_gb['True Label'] = y_test[incorrect_indices]\n",
            "<ipython-input-84-71a8214caf4d>:4: SettingWithCopyWarning: \n",
            "A value is trying to be set on a copy of a slice from a DataFrame.\n",
            "Try using .loc[row_indexer,col_indexer] = value instead\n",
            "\n",
            "See the caveats in the documentation: https://pandas.pydata.org/pandas-docs/stable/user_guide/indexing.html#returning-a-view-versus-a-copy\n",
            "  incorrect_gb['Predicted Label'] = pred_svm[incorrect_indices]\n"
          ]
        },
        {
          "output_type": "execute_result",
          "data": {
            "text/plain": [
              "                      관심수  장르_라이트노벨  장르_로맨스  장르_로판  장르_무협  장르_미스터리  장르_판타지  \\\n",
              "이름                                                                           \n",
              "삶의 절망에 빠진 60대 엄마에 딸이    1         1       0      0      0        0       0   \n",
              "나의 친구, 다정한 완벽주의자      344         0       1      0      0        0       0   \n",
              "이번 생은 내가 떠나겠다         361         0       0      1      0        0       0   \n",
              "당신 아이 데려가세요            11         1       0      0      0        0       0   \n",
              "악명 높기로 악명 높은 자        140         1       0      0      0        0       0   \n",
              "성검학원의 듀라한               3         1       0      0      0        0       0   \n",
              "바뀌어버린 세계               11         1       0      0      0        0       0   \n",
              "\n",
              "                      장르_현판  총합 별점  평균 공백 제거 글자수  평균 댓글 수  평균 업로드 간격  평균 조회수  \\\n",
              "이름                                                                             \n",
              "삶의 절망에 빠진 60대 엄마에 딸이      0  10.00        2514.2      0.2       4.00    63.4   \n",
              "나의 친구, 다정한 완벽주의자          0  10.00        4158.0      3.8       4.25  3117.0   \n",
              "이번 생은 내가 떠나겠다             0  10.00        4678.4      0.8       1.50  9383.4   \n",
              "당신 아이 데려가세요               0  10.00        4531.8      0.4       0.00   276.2   \n",
              "악명 높기로 악명 높은 자            0   9.43        2847.6      4.0       0.75  2170.4   \n",
              "성검학원의 듀라한                 0   0.00        4216.4      0.0       0.25    14.8   \n",
              "바뀌어버린 세계                  0   9.94        2385.6      0.8       1.50   535.0   \n",
              "\n",
              "                      True Label  Predicted Label  \n",
              "이름                                                 \n",
              "삶의 절망에 빠진 60대 엄마에 딸이           1                0  \n",
              "나의 친구, 다정한 완벽주의자               0                1  \n",
              "이번 생은 내가 떠나겠다                  0                1  \n",
              "당신 아이 데려가세요                    0                1  \n",
              "악명 높기로 악명 높은 자                 0                1  \n",
              "성검학원의 듀라한                      1                0  \n",
              "바뀌어버린 세계                       0                1  "
            ],
            "text/html": [
              "\n",
              "  <div id=\"df-0cbc60ea-ea99-4f1f-9a69-26075391169b\">\n",
              "    <div class=\"colab-df-container\">\n",
              "      <div>\n",
              "<style scoped>\n",
              "    .dataframe tbody tr th:only-of-type {\n",
              "        vertical-align: middle;\n",
              "    }\n",
              "\n",
              "    .dataframe tbody tr th {\n",
              "        vertical-align: top;\n",
              "    }\n",
              "\n",
              "    .dataframe thead th {\n",
              "        text-align: right;\n",
              "    }\n",
              "</style>\n",
              "<table border=\"1\" class=\"dataframe\">\n",
              "  <thead>\n",
              "    <tr style=\"text-align: right;\">\n",
              "      <th></th>\n",
              "      <th>관심수</th>\n",
              "      <th>장르_라이트노벨</th>\n",
              "      <th>장르_로맨스</th>\n",
              "      <th>장르_로판</th>\n",
              "      <th>장르_무협</th>\n",
              "      <th>장르_미스터리</th>\n",
              "      <th>장르_판타지</th>\n",
              "      <th>장르_현판</th>\n",
              "      <th>총합 별점</th>\n",
              "      <th>평균 공백 제거 글자수</th>\n",
              "      <th>평균 댓글 수</th>\n",
              "      <th>평균 업로드 간격</th>\n",
              "      <th>평균 조회수</th>\n",
              "      <th>True Label</th>\n",
              "      <th>Predicted Label</th>\n",
              "    </tr>\n",
              "    <tr>\n",
              "      <th>이름</th>\n",
              "      <th></th>\n",
              "      <th></th>\n",
              "      <th></th>\n",
              "      <th></th>\n",
              "      <th></th>\n",
              "      <th></th>\n",
              "      <th></th>\n",
              "      <th></th>\n",
              "      <th></th>\n",
              "      <th></th>\n",
              "      <th></th>\n",
              "      <th></th>\n",
              "      <th></th>\n",
              "      <th></th>\n",
              "      <th></th>\n",
              "    </tr>\n",
              "  </thead>\n",
              "  <tbody>\n",
              "    <tr>\n",
              "      <th>삶의 절망에 빠진 60대 엄마에 딸이</th>\n",
              "      <td>1</td>\n",
              "      <td>1</td>\n",
              "      <td>0</td>\n",
              "      <td>0</td>\n",
              "      <td>0</td>\n",
              "      <td>0</td>\n",
              "      <td>0</td>\n",
              "      <td>0</td>\n",
              "      <td>10.00</td>\n",
              "      <td>2514.2</td>\n",
              "      <td>0.2</td>\n",
              "      <td>4.00</td>\n",
              "      <td>63.4</td>\n",
              "      <td>1</td>\n",
              "      <td>0</td>\n",
              "    </tr>\n",
              "    <tr>\n",
              "      <th>나의 친구, 다정한 완벽주의자</th>\n",
              "      <td>344</td>\n",
              "      <td>0</td>\n",
              "      <td>1</td>\n",
              "      <td>0</td>\n",
              "      <td>0</td>\n",
              "      <td>0</td>\n",
              "      <td>0</td>\n",
              "      <td>0</td>\n",
              "      <td>10.00</td>\n",
              "      <td>4158.0</td>\n",
              "      <td>3.8</td>\n",
              "      <td>4.25</td>\n",
              "      <td>3117.0</td>\n",
              "      <td>0</td>\n",
              "      <td>1</td>\n",
              "    </tr>\n",
              "    <tr>\n",
              "      <th>이번 생은 내가 떠나겠다</th>\n",
              "      <td>361</td>\n",
              "      <td>0</td>\n",
              "      <td>0</td>\n",
              "      <td>1</td>\n",
              "      <td>0</td>\n",
              "      <td>0</td>\n",
              "      <td>0</td>\n",
              "      <td>0</td>\n",
              "      <td>10.00</td>\n",
              "      <td>4678.4</td>\n",
              "      <td>0.8</td>\n",
              "      <td>1.50</td>\n",
              "      <td>9383.4</td>\n",
              "      <td>0</td>\n",
              "      <td>1</td>\n",
              "    </tr>\n",
              "    <tr>\n",
              "      <th>당신 아이 데려가세요</th>\n",
              "      <td>11</td>\n",
              "      <td>1</td>\n",
              "      <td>0</td>\n",
              "      <td>0</td>\n",
              "      <td>0</td>\n",
              "      <td>0</td>\n",
              "      <td>0</td>\n",
              "      <td>0</td>\n",
              "      <td>10.00</td>\n",
              "      <td>4531.8</td>\n",
              "      <td>0.4</td>\n",
              "      <td>0.00</td>\n",
              "      <td>276.2</td>\n",
              "      <td>0</td>\n",
              "      <td>1</td>\n",
              "    </tr>\n",
              "    <tr>\n",
              "      <th>악명 높기로 악명 높은 자</th>\n",
              "      <td>140</td>\n",
              "      <td>1</td>\n",
              "      <td>0</td>\n",
              "      <td>0</td>\n",
              "      <td>0</td>\n",
              "      <td>0</td>\n",
              "      <td>0</td>\n",
              "      <td>0</td>\n",
              "      <td>9.43</td>\n",
              "      <td>2847.6</td>\n",
              "      <td>4.0</td>\n",
              "      <td>0.75</td>\n",
              "      <td>2170.4</td>\n",
              "      <td>0</td>\n",
              "      <td>1</td>\n",
              "    </tr>\n",
              "    <tr>\n",
              "      <th>성검학원의 듀라한</th>\n",
              "      <td>3</td>\n",
              "      <td>1</td>\n",
              "      <td>0</td>\n",
              "      <td>0</td>\n",
              "      <td>0</td>\n",
              "      <td>0</td>\n",
              "      <td>0</td>\n",
              "      <td>0</td>\n",
              "      <td>0.00</td>\n",
              "      <td>4216.4</td>\n",
              "      <td>0.0</td>\n",
              "      <td>0.25</td>\n",
              "      <td>14.8</td>\n",
              "      <td>1</td>\n",
              "      <td>0</td>\n",
              "    </tr>\n",
              "    <tr>\n",
              "      <th>바뀌어버린 세계</th>\n",
              "      <td>11</td>\n",
              "      <td>1</td>\n",
              "      <td>0</td>\n",
              "      <td>0</td>\n",
              "      <td>0</td>\n",
              "      <td>0</td>\n",
              "      <td>0</td>\n",
              "      <td>0</td>\n",
              "      <td>9.94</td>\n",
              "      <td>2385.6</td>\n",
              "      <td>0.8</td>\n",
              "      <td>1.50</td>\n",
              "      <td>535.0</td>\n",
              "      <td>0</td>\n",
              "      <td>1</td>\n",
              "    </tr>\n",
              "  </tbody>\n",
              "</table>\n",
              "</div>\n",
              "      <button class=\"colab-df-convert\" onclick=\"convertToInteractive('df-0cbc60ea-ea99-4f1f-9a69-26075391169b')\"\n",
              "              title=\"Convert this dataframe to an interactive table.\"\n",
              "              style=\"display:none;\">\n",
              "        \n",
              "  <svg xmlns=\"http://www.w3.org/2000/svg\" height=\"24px\"viewBox=\"0 0 24 24\"\n",
              "       width=\"24px\">\n",
              "    <path d=\"M0 0h24v24H0V0z\" fill=\"none\"/>\n",
              "    <path d=\"M18.56 5.44l.94 2.06.94-2.06 2.06-.94-2.06-.94-.94-2.06-.94 2.06-2.06.94zm-11 1L8.5 8.5l.94-2.06 2.06-.94-2.06-.94L8.5 2.5l-.94 2.06-2.06.94zm10 10l.94 2.06.94-2.06 2.06-.94-2.06-.94-.94-2.06-.94 2.06-2.06.94z\"/><path d=\"M17.41 7.96l-1.37-1.37c-.4-.4-.92-.59-1.43-.59-.52 0-1.04.2-1.43.59L10.3 9.45l-7.72 7.72c-.78.78-.78 2.05 0 2.83L4 21.41c.39.39.9.59 1.41.59.51 0 1.02-.2 1.41-.59l7.78-7.78 2.81-2.81c.8-.78.8-2.07 0-2.86zM5.41 20L4 18.59l7.72-7.72 1.47 1.35L5.41 20z\"/>\n",
              "  </svg>\n",
              "      </button>\n",
              "      \n",
              "  <style>\n",
              "    .colab-df-container {\n",
              "      display:flex;\n",
              "      flex-wrap:wrap;\n",
              "      gap: 12px;\n",
              "    }\n",
              "\n",
              "    .colab-df-convert {\n",
              "      background-color: #E8F0FE;\n",
              "      border: none;\n",
              "      border-radius: 50%;\n",
              "      cursor: pointer;\n",
              "      display: none;\n",
              "      fill: #1967D2;\n",
              "      height: 32px;\n",
              "      padding: 0 0 0 0;\n",
              "      width: 32px;\n",
              "    }\n",
              "\n",
              "    .colab-df-convert:hover {\n",
              "      background-color: #E2EBFA;\n",
              "      box-shadow: 0px 1px 2px rgba(60, 64, 67, 0.3), 0px 1px 3px 1px rgba(60, 64, 67, 0.15);\n",
              "      fill: #174EA6;\n",
              "    }\n",
              "\n",
              "    [theme=dark] .colab-df-convert {\n",
              "      background-color: #3B4455;\n",
              "      fill: #D2E3FC;\n",
              "    }\n",
              "\n",
              "    [theme=dark] .colab-df-convert:hover {\n",
              "      background-color: #434B5C;\n",
              "      box-shadow: 0px 1px 3px 1px rgba(0, 0, 0, 0.15);\n",
              "      filter: drop-shadow(0px 1px 2px rgba(0, 0, 0, 0.3));\n",
              "      fill: #FFFFFF;\n",
              "    }\n",
              "  </style>\n",
              "\n",
              "      <script>\n",
              "        const buttonEl =\n",
              "          document.querySelector('#df-0cbc60ea-ea99-4f1f-9a69-26075391169b button.colab-df-convert');\n",
              "        buttonEl.style.display =\n",
              "          google.colab.kernel.accessAllowed ? 'block' : 'none';\n",
              "\n",
              "        async function convertToInteractive(key) {\n",
              "          const element = document.querySelector('#df-0cbc60ea-ea99-4f1f-9a69-26075391169b');\n",
              "          const dataTable =\n",
              "            await google.colab.kernel.invokeFunction('convertToInteractive',\n",
              "                                                     [key], {});\n",
              "          if (!dataTable) return;\n",
              "\n",
              "          const docLinkHtml = 'Like what you see? Visit the ' +\n",
              "            '<a target=\"_blank\" href=https://colab.research.google.com/notebooks/data_table.ipynb>data table notebook</a>'\n",
              "            + ' to learn more about interactive tables.';\n",
              "          element.innerHTML = '';\n",
              "          dataTable['output_type'] = 'display_data';\n",
              "          await google.colab.output.renderOutput(dataTable, element);\n",
              "          const docLink = document.createElement('div');\n",
              "          docLink.innerHTML = docLinkHtml;\n",
              "          element.appendChild(docLink);\n",
              "        }\n",
              "      </script>\n",
              "    </div>\n",
              "  </div>\n",
              "  "
            ]
          },
          "metadata": {},
          "execution_count": 84
        }
      ]
    },
    {
      "cell_type": "markdown",
      "metadata": {
        "id": "xXd1J-jMWraM"
      },
      "source": [
        "### Light GBM"
      ]
    },
    {
      "cell_type": "markdown",
      "source": [
        "#### 5-fold"
      ],
      "metadata": {
        "id": "kIzmq7f0gk5v"
      }
    },
    {
      "cell_type": "code",
      "execution_count": 21,
      "metadata": {
        "colab": {
          "base_uri": "https://localhost:8080/"
        },
        "id": "eOlpbZTxVqOv",
        "outputId": "6a8d4fa0-0498-49d1-d720-18cc4ac6ac05"
      },
      "outputs": [
        {
          "output_type": "stream",
          "name": "stdout",
          "text": [
            "Looking in indexes: https://pypi.org/simple, https://us-python.pkg.dev/colab-wheels/public/simple/\n",
            "Requirement already satisfied: lightgbm in /usr/local/lib/python3.10/dist-packages (3.3.5)\n",
            "Requirement already satisfied: wheel in /usr/local/lib/python3.10/dist-packages (from lightgbm) (0.40.0)\n",
            "Requirement already satisfied: numpy in /usr/local/lib/python3.10/dist-packages (from lightgbm) (1.22.4)\n",
            "Requirement already satisfied: scipy in /usr/local/lib/python3.10/dist-packages (from lightgbm) (1.10.1)\n",
            "Requirement already satisfied: scikit-learn!=0.22.0 in /usr/local/lib/python3.10/dist-packages (from lightgbm) (1.2.2)\n",
            "Requirement already satisfied: joblib>=1.1.1 in /usr/local/lib/python3.10/dist-packages (from scikit-learn!=0.22.0->lightgbm) (1.2.0)\n",
            "Requirement already satisfied: threadpoolctl>=2.0.0 in /usr/local/lib/python3.10/dist-packages (from scikit-learn!=0.22.0->lightgbm) (3.1.0)\n"
          ]
        }
      ],
      "source": [
        "!pip install lightgbm"
      ]
    },
    {
      "cell_type": "code",
      "execution_count": null,
      "metadata": {
        "colab": {
          "base_uri": "https://localhost:8080/"
        },
        "id": "SV1lCZXPWaXO",
        "outputId": "18c89d16-ffca-4684-cbbf-8975cf6593e0"
      },
      "outputs": [
        {
          "output_type": "stream",
          "name": "stdout",
          "text": [
            "[0.75       0.79545455 0.75       0.86363636 0.74418605]\n"
          ]
        }
      ],
      "source": [
        "from lightgbm import LGBMClassifier\n",
        "\n",
        "lgb_clf = LGBMClassifier(random_state=42)\n",
        "lgb_clf.fit(X_train, y_train)\n",
        "score = cross_val_score(lgb_clf, X_train, y_train, cv=k_fold, n_jobs=1, scoring='accuracy')\n",
        "print(score)"
      ]
    },
    {
      "cell_type": "code",
      "execution_count": null,
      "metadata": {
        "colab": {
          "base_uri": "https://localhost:8080/"
        },
        "id": "DFlhgXQUWjIo",
        "outputId": "be84cba2-3498-4d8e-b155-0a9f9742a609"
      },
      "outputs": [
        {
          "output_type": "execute_result",
          "data": {
            "text/plain": [
              "78.07"
            ]
          },
          "metadata": {},
          "execution_count": 34
        }
      ],
      "source": [
        "round(np.mean(score) * 100, 2)"
      ]
    },
    {
      "cell_type": "code",
      "execution_count": null,
      "metadata": {
        "colab": {
          "base_uri": "https://localhost:8080/"
        },
        "id": "CWGej4zunmrE",
        "outputId": "cf69de59-4af1-449d-b7d4-53f32ff911b2"
      },
      "outputs": [
        {
          "output_type": "stream",
          "name": "stdout",
          "text": [
            "              precision    recall  f1-score   support\n",
            "\n",
            "           0       0.96      0.89      0.93        28\n",
            "           1       0.90      0.96      0.93        27\n",
            "\n",
            "    accuracy                           0.93        55\n",
            "   macro avg       0.93      0.93      0.93        55\n",
            "weighted avg       0.93      0.93      0.93        55\n",
            "\n"
          ]
        }
      ],
      "source": [
        "pred = lgb_clf.predict(X_test)\n",
        "print(classification_report(y_test, pred))"
      ]
    },
    {
      "cell_type": "code",
      "execution_count": null,
      "metadata": {
        "colab": {
          "base_uri": "https://localhost:8080/",
          "height": 449
        },
        "id": "upkTOp_KnmrS",
        "outputId": "b7c49822-e9af-4c75-ff08-f0f4161bfc71"
      },
      "outputs": [
        {
          "output_type": "display_data",
          "data": {
            "text/plain": [
              "<Figure size 640x480 with 2 Axes>"
            ],
            "image/png": "[encoded data removed]"
          },
          "metadata": {}
        }
      ],
      "source": [
        "cm = confusion_matrix(y_test, pred)\n",
        "\n",
        "sns.heatmap(cm, annot=True, cmap='Blues')\n",
        "plt.xlabel('Predicted')\n",
        "plt.ylabel('True')\n",
        "plt.show()"
      ]
    },
    {
      "cell_type": "markdown",
      "source": [
        "#### grid search + 5-fold"
      ],
      "metadata": {
        "id": "STv--sQmgnuk"
      }
    },
    {
      "cell_type": "code",
      "source": [
        "from lightgbm import LGBMClassifier\n",
        "\n",
        "# 탐색할 매개변수 그리드 설정\n",
        "param_grid = {\n",
        "    'n_estimators': [50, 100, 200],  # 트리의 개수\n",
        "    'learning_rate': [0.1, 0.05, 0.01],  # 학습률\n",
        "    'max_depth': [3, 5, 7],  # 트리의 최대 깊이\n",
        "    'num_leaves': [31, 61, 101]  # 트리의 최대 리프 개수\n",
        "}\n",
        "\n",
        "# GridSearchCV를 사용하여 최적의 매개변수 탐색\n",
        "lgb_clf = LGBMClassifier(random_state=42)\n",
        "grid_search_lgb = GridSearchCV(lgb_clf, param_grid=param_grid, cv=k_fold, scoring='accuracy', n_jobs=1)\n",
        "grid_search_lgb.fit(X_train, y_train)\n",
        "\n",
        "# 최적의 매개변수와 최고 성능 출력\n",
        "print(\"Best Parameters: \", grid_search_lgb.best_params_)\n",
        "print(\"Best Score: \", grid_search_lgb.best_score_)"
      ],
      "metadata": {
        "colab": {
          "base_uri": "https://localhost:8080/"
        },
        "id": "7nNQvzOI6590",
        "outputId": "2e4e34ec-02ab-4840-bd17-6dcddf0ba654"
      },
      "execution_count": 24,
      "outputs": [
        {
          "output_type": "stream",
          "name": "stdout",
          "text": [
            "Best Parameters:  {'learning_rate': 0.05, 'max_depth': 3, 'n_estimators': 200, 'num_leaves': 31}\n",
            "Best Score:  0.8034883720930232\n"
          ]
        }
      ]
    },
    {
      "cell_type": "code",
      "source": [
        "pred_lgb = grid_search_lgb.best_estimator_.predict(X_test)\n",
        "print(classification_report(y_test, pred_lgb))\n",
        "accuracy = accuracy_score(y_test, pred_lgb)\n",
        "print(f'Mean accuracy score: {accuracy:.3}')"
      ],
      "metadata": {
        "colab": {
          "base_uri": "https://localhost:8080/"
        },
        "id": "rW0W-pko9MKF",
        "outputId": "5322d0aa-c561-4d9b-e422-18b555a91d2e"
      },
      "execution_count": 25,
      "outputs": [
        {
          "output_type": "stream",
          "name": "stdout",
          "text": [
            "              precision    recall  f1-score   support\n",
            "\n",
            "           0       0.96      0.89      0.93        28\n",
            "           1       0.90      0.96      0.93        27\n",
            "\n",
            "    accuracy                           0.93        55\n",
            "   macro avg       0.93      0.93      0.93        55\n",
            "weighted avg       0.93      0.93      0.93        55\n",
            "\n",
            "Mean accuracy score: 0.927\n"
          ]
        }
      ]
    },
    {
      "cell_type": "code",
      "source": [
        "from sklearn.metrics import roc_curve, auc\n",
        "\n",
        "pred_positive_label = grid_search_lgb.best_estimator_.predict_proba(X_test)[:,1]\n",
        "fprs, tprs, thresholds = roc_curve(y_test, pred_positive_label)\n",
        "precisions, recalls, thresholds = roc_curve(y_test, pred_positive_label)\n",
        "roc_auc = auc(fprs, tprs)\n",
        "\n",
        "plt.figure()\n",
        "# 대각선\n",
        "plt.plot([0,1],[0,1],label='STR')\n",
        "\n",
        "# ROC\n",
        "plt.plot(fprs,tprs,label='ROC')\n",
        "\n",
        "plt.xlabel('False Positive Rate')\n",
        "plt.ylabel('True Positive Rate')\n",
        "plt.title('ROC Curve - LGBM')\n",
        "plt.legend()\n",
        "plt.grid()\n",
        "plt.show()"
      ],
      "metadata": {
        "colab": {
          "base_uri": "https://localhost:8080/",
          "height": 472
        },
        "id": "My0Py71OSwTq",
        "outputId": "63341a8a-39c6-48ad-c435-413fd33c7cb7"
      },
      "execution_count": 27,
      "outputs": [
        {
          "output_type": "display_data",
          "data": {
            "text/plain": [
              "<Figure size 640x480 with 1 Axes>"
            ],
            "image/png": "[encoded data removed]"
          },
          "metadata": {}
        }
      ]
    },
    {
      "cell_type": "code",
      "source": [
        "cm = confusion_matrix(y_test, pred_lgb)\n",
        "\n",
        "sns.heatmap(cm, annot=True, cmap='Blues')\n",
        "plt.title('Light GBM Confusion Matrix')\n",
        "plt.xlabel('Predicted')\n",
        "plt.ylabel('True')\n",
        "plt.show()"
      ],
      "metadata": {
        "colab": {
          "base_uri": "https://localhost:8080/",
          "height": 472
        },
        "id": "IivQu1oEcYQi",
        "outputId": "e8a18af8-dcf4-4b1f-9914-7fbc33dc3351"
      },
      "execution_count": null,
      "outputs": [
        {
          "output_type": "display_data",
          "data": {
            "text/plain": [
              "<Figure size 640x480 with 2 Axes>"
            ],
            "image/png": "[encoded data removed]"
          },
          "metadata": {}
        }
      ]
    },
    {
      "cell_type": "code",
      "execution_count": null,
      "metadata": {
        "colab": {
          "base_uri": "https://localhost:8080/"
        },
        "id": "2lP-vZipWrFF",
        "outputId": "d18a44d9-4d21-4665-d1cc-fb1e60782f9c"
      },
      "outputs": [
        {
          "output_type": "stream",
          "name": "stdout",
          "text": [
            "Incorrect Prediction:\n",
            "<Input Data>\n",
            "관심수              361.0\n",
            "장르_라이트노벨           0.0\n",
            "장르_로맨스             0.0\n",
            "장르_로판              1.0\n",
            "장르_무협              0.0\n",
            "장르_미스터리            0.0\n",
            "장르_판타지             0.0\n",
            "장르_현판              0.0\n",
            "총합 별점             10.0\n",
            "평균 공백 제거 글자수    4678.4\n",
            "평균 댓글 수            0.8\n",
            "평균 업로드 간격          1.5\n",
            "평균 조회수          9383.4\n",
            "Name: 이번 생은 내가 떠나겠다, dtype: float64\n",
            "True Label: 0\n",
            "Predicted Label: 1\n",
            "-------------------\n",
            "<Input Data>\n",
            "관심수               11.0\n",
            "장르_라이트노벨           1.0\n",
            "장르_로맨스             0.0\n",
            "장르_로판              0.0\n",
            "장르_무협              0.0\n",
            "장르_미스터리            0.0\n",
            "장르_판타지             0.0\n",
            "장르_현판              0.0\n",
            "총합 별점             10.0\n",
            "평균 공백 제거 글자수    4531.8\n",
            "평균 댓글 수            0.4\n",
            "평균 업로드 간격          0.0\n",
            "평균 조회수           276.2\n",
            "Name: 당신 아이 데려가세요, dtype: float64\n",
            "True Label: 0\n",
            "Predicted Label: 1\n",
            "-------------------\n",
            "<Input Data>\n",
            "관심수              140.00\n",
            "장르_라이트노벨           1.00\n",
            "장르_로맨스             0.00\n",
            "장르_로판              0.00\n",
            "장르_무협              0.00\n",
            "장르_미스터리            0.00\n",
            "장르_판타지             0.00\n",
            "장르_현판              0.00\n",
            "총합 별점              9.43\n",
            "평균 공백 제거 글자수    2847.60\n",
            "평균 댓글 수            4.00\n",
            "평균 업로드 간격          0.75\n",
            "평균 조회수          2170.40\n",
            "Name: 악명 높기로 악명 높은 자, dtype: float64\n",
            "True Label: 0\n",
            "Predicted Label: 1\n",
            "-------------------\n",
            "<Input Data>\n",
            "관심수                3.00\n",
            "장르_라이트노벨           1.00\n",
            "장르_로맨스             0.00\n",
            "장르_로판              0.00\n",
            "장르_무협              0.00\n",
            "장르_미스터리            0.00\n",
            "장르_판타지             0.00\n",
            "장르_현판              0.00\n",
            "총합 별점              0.00\n",
            "평균 공백 제거 글자수    4216.40\n",
            "평균 댓글 수            0.00\n",
            "평균 업로드 간격          0.25\n",
            "평균 조회수            14.80\n",
            "Name: 성검학원의 듀라한, dtype: float64\n",
            "True Label: 1\n",
            "Predicted Label: 0\n",
            "-------------------\n"
          ]
        }
      ],
      "source": [
        "# 예측이 틀린 결과의 인덱스 가져오기\n",
        "incorrect_indices = np.where(pred_lgb != y_test)[0]\n",
        "\n",
        "# 예측이 틀린 데이터의 내용 출력\n",
        "print(\"Incorrect Prediction:\")\n",
        "for index in incorrect_indices:\n",
        "    print(\"<Input Data>\")\n",
        "    print(X_test.iloc[index, :])\n",
        "    print(\"True Label:\", y_test[index])\n",
        "    print(\"Predicted Label:\", pred_lgb[index])\n",
        "    print(\"-------------------\")"
      ]
    },
    {
      "cell_type": "code",
      "source": [
        "# 예측이 틀린 데이터를 데이터프레임으로 저장\n",
        "incorrect_lgb = X_test.iloc[incorrect_indices, :]\n",
        "incorrect_lgb['True Label'] = y_test[incorrect_indices]\n",
        "incorrect_lgb['Predicted Label'] = pred_svm[incorrect_indices]\n",
        "\n",
        "# 데이터프레임 출력\n",
        "print(\"Incorrect Prediction:\")\n",
        "incorrect_lgb"
      ],
      "metadata": {
        "colab": {
          "base_uri": "https://localhost:8080/",
          "height": 1000
        },
        "id": "qUhu5SJ1raG6",
        "outputId": "54ef80e8-fbbf-4995-da12-17c7b67e1c20"
      },
      "execution_count": null,
      "outputs": [
        {
          "output_type": "stream",
          "name": "stdout",
          "text": [
            "Incorrect Prediction:\n"
          ]
        },
        {
          "output_type": "stream",
          "name": "stderr",
          "text": [
            "<ipython-input-86-99dbac6b0ee2>:3: SettingWithCopyWarning: \n",
            "A value is trying to be set on a copy of a slice from a DataFrame.\n",
            "Try using .loc[row_indexer,col_indexer] = value instead\n",
            "\n",
            "See the caveats in the documentation: https://pandas.pydata.org/pandas-docs/stable/user_guide/indexing.html#returning-a-view-versus-a-copy\n",
            "  incorrect_lgb['True Label'] = y_test[incorrect_indices]\n",
            "<ipython-input-86-99dbac6b0ee2>:4: SettingWithCopyWarning: \n",
            "A value is trying to be set on a copy of a slice from a DataFrame.\n",
            "Try using .loc[row_indexer,col_indexer] = value instead\n",
            "\n",
            "See the caveats in the documentation: https://pandas.pydata.org/pandas-docs/stable/user_guide/indexing.html#returning-a-view-versus-a-copy\n",
            "  incorrect_lgb['Predicted Label'] = pred_svm[incorrect_indices]\n"
          ]
        },
        {
          "output_type": "execute_result",
          "data": {
            "text/plain": [
              "                관심수  장르_라이트노벨  장르_로맨스  장르_로판  장르_무협  장르_미스터리  장르_판타지  장르_현판  \\\n",
              "이름                                                                            \n",
              "이번 생은 내가 떠나겠다   361         0       0      1      0        0       0      0   \n",
              "당신 아이 데려가세요      11         1       0      0      0        0       0      0   \n",
              "악명 높기로 악명 높은 자  140         1       0      0      0        0       0      0   \n",
              "성검학원의 듀라한         3         1       0      0      0        0       0      0   \n",
              "\n",
              "                총합 별점  평균 공백 제거 글자수  평균 댓글 수  평균 업로드 간격  평균 조회수  True Label  \\\n",
              "이름                                                                            \n",
              "이번 생은 내가 떠나겠다   10.00        4678.4      0.8       1.50  9383.4           0   \n",
              "당신 아이 데려가세요     10.00        4531.8      0.4       0.00   276.2           0   \n",
              "악명 높기로 악명 높은 자   9.43        2847.6      4.0       0.75  2170.4           0   \n",
              "성검학원의 듀라한        0.00        4216.4      0.0       0.25    14.8           1   \n",
              "\n",
              "                Predicted Label  \n",
              "이름                               \n",
              "이번 생은 내가 떠나겠다                 1  \n",
              "당신 아이 데려가세요                   1  \n",
              "악명 높기로 악명 높은 자                1  \n",
              "성검학원의 듀라한                     0  "
            ],
            "text/html": [
              "\n",
              "  <div id=\"df-b6acb570-c68d-4c53-a801-db9c7d06ef66\">\n",
              "    <div class=\"colab-df-container\">\n",
              "      <div>\n",
              "<style scoped>\n",
              "    .dataframe tbody tr th:only-of-type {\n",
              "        vertical-align: middle;\n",
              "    }\n",
              "\n",
              "    .dataframe tbody tr th {\n",
              "        vertical-align: top;\n",
              "    }\n",
              "\n",
              "    .dataframe thead th {\n",
              "        text-align: right;\n",
              "    }\n",
              "</style>\n",
              "<table border=\"1\" class=\"dataframe\">\n",
              "  <thead>\n",
              "    <tr style=\"text-align: right;\">\n",
              "      <th></th>\n",
              "      <th>관심수</th>\n",
              "      <th>장르_라이트노벨</th>\n",
              "      <th>장르_로맨스</th>\n",
              "      <th>장르_로판</th>\n",
              "      <th>장르_무협</th>\n",
              "      <th>장르_미스터리</th>\n",
              "      <th>장르_판타지</th>\n",
              "      <th>장르_현판</th>\n",
              "      <th>총합 별점</th>\n",
              "      <th>평균 공백 제거 글자수</th>\n",
              "      <th>평균 댓글 수</th>\n",
              "      <th>평균 업로드 간격</th>\n",
              "      <th>평균 조회수</th>\n",
              "      <th>True Label</th>\n",
              "      <th>Predicted Label</th>\n",
              "    </tr>\n",
              "    <tr>\n",
              "      <th>이름</th>\n",
              "      <th></th>\n",
              "      <th></th>\n",
              "      <th></th>\n",
              "      <th></th>\n",
              "      <th></th>\n",
              "      <th></th>\n",
              "      <th></th>\n",
              "      <th></th>\n",
              "      <th></th>\n",
              "      <th></th>\n",
              "      <th></th>\n",
              "      <th></th>\n",
              "      <th></th>\n",
              "      <th></th>\n",
              "      <th></th>\n",
              "    </tr>\n",
              "  </thead>\n",
              "  <tbody>\n",
              "    <tr>\n",
              "      <th>이번 생은 내가 떠나겠다</th>\n",
              "      <td>361</td>\n",
              "      <td>0</td>\n",
              "      <td>0</td>\n",
              "      <td>1</td>\n",
              "      <td>0</td>\n",
              "      <td>0</td>\n",
              "      <td>0</td>\n",
              "      <td>0</td>\n",
              "      <td>10.00</td>\n",
              "      <td>4678.4</td>\n",
              "      <td>0.8</td>\n",
              "      <td>1.50</td>\n",
              "      <td>9383.4</td>\n",
              "      <td>0</td>\n",
              "      <td>1</td>\n",
              "    </tr>\n",
              "    <tr>\n",
              "      <th>당신 아이 데려가세요</th>\n",
              "      <td>11</td>\n",
              "      <td>1</td>\n",
              "      <td>0</td>\n",
              "      <td>0</td>\n",
              "      <td>0</td>\n",
              "      <td>0</td>\n",
              "      <td>0</td>\n",
              "      <td>0</td>\n",
              "      <td>10.00</td>\n",
              "      <td>4531.8</td>\n",
              "      <td>0.4</td>\n",
              "      <td>0.00</td>\n",
              "      <td>276.2</td>\n",
              "      <td>0</td>\n",
              "      <td>1</td>\n",
              "    </tr>\n",
              "    <tr>\n",
              "      <th>악명 높기로 악명 높은 자</th>\n",
              "      <td>140</td>\n",
              "      <td>1</td>\n",
              "      <td>0</td>\n",
              "      <td>0</td>\n",
              "      <td>0</td>\n",
              "      <td>0</td>\n",
              "      <td>0</td>\n",
              "      <td>0</td>\n",
              "      <td>9.43</td>\n",
              "      <td>2847.6</td>\n",
              "      <td>4.0</td>\n",
              "      <td>0.75</td>\n",
              "      <td>2170.4</td>\n",
              "      <td>0</td>\n",
              "      <td>1</td>\n",
              "    </tr>\n",
              "    <tr>\n",
              "      <th>성검학원의 듀라한</th>\n",
              "      <td>3</td>\n",
              "      <td>1</td>\n",
              "      <td>0</td>\n",
              "      <td>0</td>\n",
              "      <td>0</td>\n",
              "      <td>0</td>\n",
              "      <td>0</td>\n",
              "      <td>0</td>\n",
              "      <td>0.00</td>\n",
              "      <td>4216.4</td>\n",
              "      <td>0.0</td>\n",
              "      <td>0.25</td>\n",
              "      <td>14.8</td>\n",
              "      <td>1</td>\n",
              "      <td>0</td>\n",
              "    </tr>\n",
              "  </tbody>\n",
              "</table>\n",
              "</div>\n",
              "      <button class=\"colab-df-convert\" onclick=\"convertToInteractive('df-b6acb570-c68d-4c53-a801-db9c7d06ef66')\"\n",
              "              title=\"Convert this dataframe to an interactive table.\"\n",
              "              style=\"display:none;\">\n",
              "        \n",
              "  <svg xmlns=\"http://www.w3.org/2000/svg\" height=\"24px\"viewBox=\"0 0 24 24\"\n",
              "       width=\"24px\">\n",
              "    <path d=\"M0 0h24v24H0V0z\" fill=\"none\"/>\n",
              "    <path d=\"M18.56 5.44l.94 2.06.94-2.06 2.06-.94-2.06-.94-.94-2.06-.94 2.06-2.06.94zm-11 1L8.5 8.5l.94-2.06 2.06-.94-2.06-.94L8.5 2.5l-.94 2.06-2.06.94zm10 10l.94 2.06.94-2.06 2.06-.94-2.06-.94-.94-2.06-.94 2.06-2.06.94z\"/><path d=\"M17.41 7.96l-1.37-1.37c-.4-.4-.92-.59-1.43-.59-.52 0-1.04.2-1.43.59L10.3 9.45l-7.72 7.72c-.78.78-.78 2.05 0 2.83L4 21.41c.39.39.9.59 1.41.59.51 0 1.02-.2 1.41-.59l7.78-7.78 2.81-2.81c.8-.78.8-2.07 0-2.86zM5.41 20L4 18.59l7.72-7.72 1.47 1.35L5.41 20z\"/>\n",
              "  </svg>\n",
              "      </button>\n",
              "      \n",
              "  <style>\n",
              "    .colab-df-container {\n",
              "      display:flex;\n",
              "      flex-wrap:wrap;\n",
              "      gap: 12px;\n",
              "    }\n",
              "\n",
              "    .colab-df-convert {\n",
              "      background-color: #E8F0FE;\n",
              "      border: none;\n",
              "      border-radius: 50%;\n",
              "      cursor: pointer;\n",
              "      display: none;\n",
              "      fill: #1967D2;\n",
              "      height: 32px;\n",
              "      padding: 0 0 0 0;\n",
              "      width: 32px;\n",
              "    }\n",
              "\n",
              "    .colab-df-convert:hover {\n",
              "      background-color: #E2EBFA;\n",
              "      box-shadow: 0px 1px 2px rgba(60, 64, 67, 0.3), 0px 1px 3px 1px rgba(60, 64, 67, 0.15);\n",
              "      fill: #174EA6;\n",
              "    }\n",
              "\n",
              "    [theme=dark] .colab-df-convert {\n",
              "      background-color: #3B4455;\n",
              "      fill: #D2E3FC;\n",
              "    }\n",
              "\n",
              "    [theme=dark] .colab-df-convert:hover {\n",
              "      background-color: #434B5C;\n",
              "      box-shadow: 0px 1px 3px 1px rgba(0, 0, 0, 0.15);\n",
              "      filter: drop-shadow(0px 1px 2px rgba(0, 0, 0, 0.3));\n",
              "      fill: #FFFFFF;\n",
              "    }\n",
              "  </style>\n",
              "\n",
              "      <script>\n",
              "        const buttonEl =\n",
              "          document.querySelector('#df-b6acb570-c68d-4c53-a801-db9c7d06ef66 button.colab-df-convert');\n",
              "        buttonEl.style.display =\n",
              "          google.colab.kernel.accessAllowed ? 'block' : 'none';\n",
              "\n",
              "        async function convertToInteractive(key) {\n",
              "          const element = document.querySelector('#df-b6acb570-c68d-4c53-a801-db9c7d06ef66');\n",
              "          const dataTable =\n",
              "            await google.colab.kernel.invokeFunction('convertToInteractive',\n",
              "                                                     [key], {});\n",
              "          if (!dataTable) return;\n",
              "\n",
              "          const docLinkHtml = 'Like what you see? Visit the ' +\n",
              "            '<a target=\"_blank\" href=https://colab.research.google.com/notebooks/data_table.ipynb>data table notebook</a>'\n",
              "            + ' to learn more about interactive tables.';\n",
              "          element.innerHTML = '';\n",
              "          dataTable['output_type'] = 'display_data';\n",
              "          await google.colab.output.renderOutput(dataTable, element);\n",
              "          const docLink = document.createElement('div');\n",
              "          docLink.innerHTML = docLinkHtml;\n",
              "          element.appendChild(docLink);\n",
              "        }\n",
              "      </script>\n",
              "    </div>\n",
              "  </div>\n",
              "  "
            ]
          },
          "metadata": {},
          "execution_count": 86
        }
      ]
    },
    {
      "cell_type": "markdown",
      "metadata": {
        "id": "bkt5W89hW4jH"
      },
      "source": [
        "### XGBoost"
      ]
    },
    {
      "cell_type": "markdown",
      "source": [
        "#### 5-fold"
      ],
      "metadata": {
        "id": "tNTluBqhg_VD"
      }
    },
    {
      "cell_type": "code",
      "execution_count": null,
      "metadata": {
        "colab": {
          "base_uri": "https://localhost:8080/"
        },
        "id": "T9M9r0yCW2Fw",
        "outputId": "ca72b0a0-d05d-4c01-8c60-46721c4a338b"
      },
      "outputs": [
        {
          "output_type": "stream",
          "name": "stdout",
          "text": [
            "[0.75       0.77272727 0.81818182 0.81818182 0.8372093 ]\n"
          ]
        }
      ],
      "source": [
        "import xgboost as xgb\n",
        "\n",
        "xgb_clf = xgb.XGBClassifier(random_state=42)\n",
        "xgb_clf.fit(X_train, y_train)\n",
        "score = cross_val_score(xgb_clf, X_train, y_train, cv=k_fold, n_jobs=1, scoring='accuracy')\n",
        "print(score)"
      ]
    },
    {
      "cell_type": "code",
      "execution_count": null,
      "metadata": {
        "colab": {
          "base_uri": "https://localhost:8080/"
        },
        "id": "2zivk3KSXSxa",
        "outputId": "9f0a3bda-675e-4fc8-8dd6-f300332a50d4"
      },
      "outputs": [
        {
          "output_type": "execute_result",
          "data": {
            "text/plain": [
              "79.93"
            ]
          },
          "metadata": {},
          "execution_count": 42
        }
      ],
      "source": [
        "round(np.mean(score) * 100, 2)"
      ]
    },
    {
      "cell_type": "code",
      "execution_count": null,
      "metadata": {
        "colab": {
          "base_uri": "https://localhost:8080/"
        },
        "id": "oPWV6Ee-ntlV",
        "outputId": "1d194862-b934-4eb0-9f9c-343bd5d14482"
      },
      "outputs": [
        {
          "output_type": "stream",
          "name": "stdout",
          "text": [
            "              precision    recall  f1-score   support\n",
            "\n",
            "           0       0.92      0.82      0.87        28\n",
            "           1       0.83      0.93      0.88        27\n",
            "\n",
            "    accuracy                           0.87        55\n",
            "   macro avg       0.88      0.87      0.87        55\n",
            "weighted avg       0.88      0.87      0.87        55\n",
            "\n"
          ]
        }
      ],
      "source": [
        "pred = xgb_clf.predict(X_test)\n",
        "print(classification_report(y_test, pred))"
      ]
    },
    {
      "cell_type": "code",
      "execution_count": null,
      "metadata": {
        "colab": {
          "base_uri": "https://localhost:8080/",
          "height": 455
        },
        "id": "mF_B5ptintlW",
        "outputId": "9c66992f-54cf-444c-c67d-418c2107208f"
      },
      "outputs": [
        {
          "output_type": "display_data",
          "data": {
            "text/plain": [
              "<Figure size 640x480 with 2 Axes>"
            ],
            "image/png": "[encoded data removed]"
          },
          "metadata": {}
        }
      ],
      "source": [
        "cm = confusion_matrix(y_test, pred)\n",
        "\n",
        "sns.heatmap(cm, annot=True, cmap='Blues')\n",
        "plt.xlabel('Predicted')\n",
        "plt.ylabel('True')\n",
        "plt.show()"
      ]
    },
    {
      "cell_type": "markdown",
      "source": [
        "#### grid search + 5-fold"
      ],
      "metadata": {
        "id": "pgp351yihBQw"
      }
    },
    {
      "cell_type": "code",
      "source": [
        "# 탐색할 매개변수 그리드 설정\n",
        "param_grid = {\n",
        "    'n_estimators': [100, 200, 300],  # 트리의 개수\n",
        "    'learning_rate': [0.1, 0.05, 0.01],  # 학습률\n",
        "    'max_depth': [3, 5, 7],  # 트리의 최대 깊이\n",
        "    'subsample': [0.8, 1.0],  # 샘플링 비율\n",
        "    'colsample_bytree': [0.8, 1.0]  # 트리 생성에 사용되는 피처의 비율\n",
        "}\n",
        "\n",
        "# GridSearchCV를 사용하여 최적의 매개변수 탐색\n",
        "grid_search_xgb = GridSearchCV(xgb_clf, param_grid=param_grid, cv=k_fold, scoring='accuracy', n_jobs=1)\n",
        "grid_search_xgb.fit(X_train, y_train)\n",
        "\n",
        "# 최적의 매개변수와 최고 성능 출력\n",
        "print(\"Best Parameters: \", grid_search_xgb.best_params_)\n",
        "print(\"Best Score: \", grid_search_xgb.best_score_)"
      ],
      "metadata": {
        "colab": {
          "base_uri": "https://localhost:8080/"
        },
        "id": "_Y9oDx347Qs4",
        "outputId": "ea431c91-c2e8-49c4-8e31-4634e2f29cf2"
      },
      "execution_count": null,
      "outputs": [
        {
          "output_type": "stream",
          "name": "stdout",
          "text": [
            "Best Parameters:  {'colsample_bytree': 0.8, 'learning_rate': 0.05, 'max_depth': 3, 'n_estimators': 200, 'subsample': 0.8}\n",
            "Best Score:  0.8399577167019027\n"
          ]
        }
      ]
    },
    {
      "cell_type": "code",
      "source": [
        "pred_xgb = grid_search_xgb.best_estimator_.predict(X_test)\n",
        "print(classification_report(y_test, pred_xgb))\n",
        "accuracy = accuracy_score(y_test, pred_xgb)\n",
        "print(f'Mean accuracy score: {accuracy:.3}')"
      ],
      "metadata": {
        "colab": {
          "base_uri": "https://localhost:8080/"
        },
        "id": "tGEzFrNt9ba0",
        "outputId": "d4d52603-2258-4384-d37b-bbc9837dd486"
      },
      "execution_count": null,
      "outputs": [
        {
          "output_type": "stream",
          "name": "stdout",
          "text": [
            "              precision    recall  f1-score   support\n",
            "\n",
            "           0       0.92      0.86      0.89        28\n",
            "           1       0.86      0.93      0.89        27\n",
            "\n",
            "    accuracy                           0.89        55\n",
            "   macro avg       0.89      0.89      0.89        55\n",
            "weighted avg       0.89      0.89      0.89        55\n",
            "\n",
            "Mean accuracy score: 0.891\n"
          ]
        }
      ]
    },
    {
      "cell_type": "code",
      "source": [
        "cm = confusion_matrix(y_test, pred_xgb)\n",
        "\n",
        "sns.heatmap(cm, annot=True, cmap='Blues')\n",
        "plt.title('XGBoost Confusion Matrix')\n",
        "plt.xlabel('Predicted')\n",
        "plt.ylabel('True')\n",
        "plt.show()"
      ],
      "metadata": {
        "colab": {
          "base_uri": "https://localhost:8080/",
          "height": 472
        },
        "id": "frsFM1uWck22",
        "outputId": "ab935bb8-8c9e-4c47-fe1b-dddf4079345a"
      },
      "execution_count": null,
      "outputs": [
        {
          "output_type": "display_data",
          "data": {
            "text/plain": [
              "<Figure size 640x480 with 2 Axes>"
            ],
            "image/png": "[encoded data removed]"
          },
          "metadata": {}
        }
      ]
    },
    {
      "cell_type": "code",
      "execution_count": null,
      "metadata": {
        "colab": {
          "base_uri": "https://localhost:8080/"
        },
        "id": "2AxbTI7BXac0",
        "outputId": "ed3d9bbf-a249-4083-f940-47ed8b6b268c"
      },
      "outputs": [
        {
          "output_type": "stream",
          "name": "stdout",
          "text": [
            "Incorrect Prediction:\n",
            "<Input Data>\n",
            "관심수              344.00\n",
            "장르_라이트노벨           0.00\n",
            "장르_로맨스             1.00\n",
            "장르_로판              0.00\n",
            "장르_무협              0.00\n",
            "장르_미스터리            0.00\n",
            "장르_판타지             0.00\n",
            "장르_현판              0.00\n",
            "총합 별점             10.00\n",
            "평균 공백 제거 글자수    4158.00\n",
            "평균 댓글 수            3.80\n",
            "평균 업로드 간격          4.25\n",
            "평균 조회수          3117.00\n",
            "Name: 나의 친구, 다정한 완벽주의자, dtype: float64\n",
            "True Label: 0\n",
            "Predicted Label: 1\n",
            "-------------------\n",
            "<Input Data>\n",
            "관심수              361.0\n",
            "장르_라이트노벨           0.0\n",
            "장르_로맨스             0.0\n",
            "장르_로판              1.0\n",
            "장르_무협              0.0\n",
            "장르_미스터리            0.0\n",
            "장르_판타지             0.0\n",
            "장르_현판              0.0\n",
            "총합 별점             10.0\n",
            "평균 공백 제거 글자수    4678.4\n",
            "평균 댓글 수            0.8\n",
            "평균 업로드 간격          1.5\n",
            "평균 조회수          9383.4\n",
            "Name: 이번 생은 내가 떠나겠다, dtype: float64\n",
            "True Label: 0\n",
            "Predicted Label: 1\n",
            "-------------------\n",
            "<Input Data>\n",
            "관심수               11.0\n",
            "장르_라이트노벨           1.0\n",
            "장르_로맨스             0.0\n",
            "장르_로판              0.0\n",
            "장르_무협              0.0\n",
            "장르_미스터리            0.0\n",
            "장르_판타지             0.0\n",
            "장르_현판              0.0\n",
            "총합 별점             10.0\n",
            "평균 공백 제거 글자수    4531.8\n",
            "평균 댓글 수            0.4\n",
            "평균 업로드 간격          0.0\n",
            "평균 조회수           276.2\n",
            "Name: 당신 아이 데려가세요, dtype: float64\n",
            "True Label: 0\n",
            "Predicted Label: 1\n",
            "-------------------\n",
            "<Input Data>\n",
            "관심수               21.00\n",
            "장르_라이트노벨           0.00\n",
            "장르_로맨스             0.00\n",
            "장르_로판              0.00\n",
            "장르_무협              0.00\n",
            "장르_미스터리            0.00\n",
            "장르_판타지             0.00\n",
            "장르_현판              1.00\n",
            "총합 별점              9.59\n",
            "평균 공백 제거 글자수    1862.40\n",
            "평균 댓글 수            0.00\n",
            "평균 업로드 간격          0.00\n",
            "평균 조회수           381.20\n",
            "Name: 채굴을 시작합니다., dtype: float64\n",
            "True Label: 1\n",
            "Predicted Label: 0\n",
            "-------------------\n",
            "<Input Data>\n",
            "관심수              140.00\n",
            "장르_라이트노벨           1.00\n",
            "장르_로맨스             0.00\n",
            "장르_로판              0.00\n",
            "장르_무협              0.00\n",
            "장르_미스터리            0.00\n",
            "장르_판타지             0.00\n",
            "장르_현판              0.00\n",
            "총합 별점              9.43\n",
            "평균 공백 제거 글자수    2847.60\n",
            "평균 댓글 수            4.00\n",
            "평균 업로드 간격          0.75\n",
            "평균 조회수          2170.40\n",
            "Name: 악명 높기로 악명 높은 자, dtype: float64\n",
            "True Label: 0\n",
            "Predicted Label: 1\n",
            "-------------------\n",
            "<Input Data>\n",
            "관심수                3.00\n",
            "장르_라이트노벨           1.00\n",
            "장르_로맨스             0.00\n",
            "장르_로판              0.00\n",
            "장르_무협              0.00\n",
            "장르_미스터리            0.00\n",
            "장르_판타지             0.00\n",
            "장르_현판              0.00\n",
            "총합 별점              0.00\n",
            "평균 공백 제거 글자수    4216.40\n",
            "평균 댓글 수            0.00\n",
            "평균 업로드 간격          0.25\n",
            "평균 조회수            14.80\n",
            "Name: 성검학원의 듀라한, dtype: float64\n",
            "True Label: 1\n",
            "Predicted Label: 0\n",
            "-------------------\n"
          ]
        }
      ],
      "source": [
        "# 예측이 틀린 결과의 인덱스 가져오기\n",
        "incorrect_indices = np.where(pred_xgb != y_test)[0]\n",
        "\n",
        "# 예측이 틀린 데이터의 내용 출력\n",
        "print(\"Incorrect Prediction:\")\n",
        "for index in incorrect_indices:\n",
        "    print(\"<Input Data>\")\n",
        "    print(X_test.iloc[index, :])\n",
        "    print(\"True Label:\", y_test[index])\n",
        "    print(\"Predicted Label:\", pred_xgb[index])\n",
        "    print(\"-------------------\")"
      ]
    },
    {
      "cell_type": "code",
      "source": [
        "# 예측이 틀린 데이터를 데이터프레임으로 저장\n",
        "incorrect_xgb = X_test.iloc[incorrect_indices, :]\n",
        "incorrect_xgb['True Label'] = y_test[incorrect_indices]\n",
        "incorrect_xgb['Predicted Label'] = pred_svm[incorrect_indices]\n",
        "\n",
        "# 데이터프레임 출력\n",
        "print(\"Incorrect Prediction:\")\n",
        "incorrect_xgb"
      ],
      "metadata": {
        "colab": {
          "base_uri": "https://localhost:8080/",
          "height": 1000
        },
        "id": "B1L2j8LT7x4M",
        "outputId": "1986ee29-71f8-40c7-e51d-f94818937b04"
      },
      "execution_count": null,
      "outputs": [
        {
          "output_type": "stream",
          "name": "stdout",
          "text": [
            "Incorrect Prediction:\n"
          ]
        },
        {
          "output_type": "stream",
          "name": "stderr",
          "text": [
            "<ipython-input-88-6e1ebc448fc9>:3: SettingWithCopyWarning: \n",
            "A value is trying to be set on a copy of a slice from a DataFrame.\n",
            "Try using .loc[row_indexer,col_indexer] = value instead\n",
            "\n",
            "See the caveats in the documentation: https://pandas.pydata.org/pandas-docs/stable/user_guide/indexing.html#returning-a-view-versus-a-copy\n",
            "  incorrect_xgb['True Label'] = y_test[incorrect_indices]\n",
            "<ipython-input-88-6e1ebc448fc9>:4: SettingWithCopyWarning: \n",
            "A value is trying to be set on a copy of a slice from a DataFrame.\n",
            "Try using .loc[row_indexer,col_indexer] = value instead\n",
            "\n",
            "See the caveats in the documentation: https://pandas.pydata.org/pandas-docs/stable/user_guide/indexing.html#returning-a-view-versus-a-copy\n",
            "  incorrect_xgb['Predicted Label'] = pred_svm[incorrect_indices]\n"
          ]
        },
        {
          "output_type": "execute_result",
          "data": {
            "text/plain": [
              "                  관심수  장르_라이트노벨  장르_로맨스  장르_로판  장르_무협  장르_미스터리  장르_판타지  장르_현판  \\\n",
              "이름                                                                              \n",
              "나의 친구, 다정한 완벽주의자  344         0       1      0      0        0       0      0   \n",
              "이번 생은 내가 떠나겠다     361         0       0      1      0        0       0      0   \n",
              "당신 아이 데려가세요        11         1       0      0      0        0       0      0   \n",
              "채굴을 시작합니다.         21         0       0      0      0        0       0      1   \n",
              "악명 높기로 악명 높은 자    140         1       0      0      0        0       0      0   \n",
              "성검학원의 듀라한           3         1       0      0      0        0       0      0   \n",
              "\n",
              "                  총합 별점  평균 공백 제거 글자수  평균 댓글 수  평균 업로드 간격  평균 조회수  True Label  \\\n",
              "이름                                                                              \n",
              "나의 친구, 다정한 완벽주의자  10.00        4158.0      3.8       4.25  3117.0           0   \n",
              "이번 생은 내가 떠나겠다     10.00        4678.4      0.8       1.50  9383.4           0   \n",
              "당신 아이 데려가세요       10.00        4531.8      0.4       0.00   276.2           0   \n",
              "채굴을 시작합니다.         9.59        1862.4      0.0       0.00   381.2           1   \n",
              "악명 높기로 악명 높은 자     9.43        2847.6      4.0       0.75  2170.4           0   \n",
              "성검학원의 듀라한          0.00        4216.4      0.0       0.25    14.8           1   \n",
              "\n",
              "                  Predicted Label  \n",
              "이름                                 \n",
              "나의 친구, 다정한 완벽주의자                1  \n",
              "이번 생은 내가 떠나겠다                   1  \n",
              "당신 아이 데려가세요                     1  \n",
              "채굴을 시작합니다.                      1  \n",
              "악명 높기로 악명 높은 자                  1  \n",
              "성검학원의 듀라한                       0  "
            ],
            "text/html": [
              "\n",
              "  <div id=\"df-be084517-40c6-4b64-bec6-ce7f8e961549\">\n",
              "    <div class=\"colab-df-container\">\n",
              "      <div>\n",
              "<style scoped>\n",
              "    .dataframe tbody tr th:only-of-type {\n",
              "        vertical-align: middle;\n",
              "    }\n",
              "\n",
              "    .dataframe tbody tr th {\n",
              "        vertical-align: top;\n",
              "    }\n",
              "\n",
              "    .dataframe thead th {\n",
              "        text-align: right;\n",
              "    }\n",
              "</style>\n",
              "<table border=\"1\" class=\"dataframe\">\n",
              "  <thead>\n",
              "    <tr style=\"text-align: right;\">\n",
              "      <th></th>\n",
              "      <th>관심수</th>\n",
              "      <th>장르_라이트노벨</th>\n",
              "      <th>장르_로맨스</th>\n",
              "      <th>장르_로판</th>\n",
              "      <th>장르_무협</th>\n",
              "      <th>장르_미스터리</th>\n",
              "      <th>장르_판타지</th>\n",
              "      <th>장르_현판</th>\n",
              "      <th>총합 별점</th>\n",
              "      <th>평균 공백 제거 글자수</th>\n",
              "      <th>평균 댓글 수</th>\n",
              "      <th>평균 업로드 간격</th>\n",
              "      <th>평균 조회수</th>\n",
              "      <th>True Label</th>\n",
              "      <th>Predicted Label</th>\n",
              "    </tr>\n",
              "    <tr>\n",
              "      <th>이름</th>\n",
              "      <th></th>\n",
              "      <th></th>\n",
              "      <th></th>\n",
              "      <th></th>\n",
              "      <th></th>\n",
              "      <th></th>\n",
              "      <th></th>\n",
              "      <th></th>\n",
              "      <th></th>\n",
              "      <th></th>\n",
              "      <th></th>\n",
              "      <th></th>\n",
              "      <th></th>\n",
              "      <th></th>\n",
              "      <th></th>\n",
              "    </tr>\n",
              "  </thead>\n",
              "  <tbody>\n",
              "    <tr>\n",
              "      <th>나의 친구, 다정한 완벽주의자</th>\n",
              "      <td>344</td>\n",
              "      <td>0</td>\n",
              "      <td>1</td>\n",
              "      <td>0</td>\n",
              "      <td>0</td>\n",
              "      <td>0</td>\n",
              "      <td>0</td>\n",
              "      <td>0</td>\n",
              "      <td>10.00</td>\n",
              "      <td>4158.0</td>\n",
              "      <td>3.8</td>\n",
              "      <td>4.25</td>\n",
              "      <td>3117.0</td>\n",
              "      <td>0</td>\n",
              "      <td>1</td>\n",
              "    </tr>\n",
              "    <tr>\n",
              "      <th>이번 생은 내가 떠나겠다</th>\n",
              "      <td>361</td>\n",
              "      <td>0</td>\n",
              "      <td>0</td>\n",
              "      <td>1</td>\n",
              "      <td>0</td>\n",
              "      <td>0</td>\n",
              "      <td>0</td>\n",
              "      <td>0</td>\n",
              "      <td>10.00</td>\n",
              "      <td>4678.4</td>\n",
              "      <td>0.8</td>\n",
              "      <td>1.50</td>\n",
              "      <td>9383.4</td>\n",
              "      <td>0</td>\n",
              "      <td>1</td>\n",
              "    </tr>\n",
              "    <tr>\n",
              "      <th>당신 아이 데려가세요</th>\n",
              "      <td>11</td>\n",
              "      <td>1</td>\n",
              "      <td>0</td>\n",
              "      <td>0</td>\n",
              "      <td>0</td>\n",
              "      <td>0</td>\n",
              "      <td>0</td>\n",
              "      <td>0</td>\n",
              "      <td>10.00</td>\n",
              "      <td>4531.8</td>\n",
              "      <td>0.4</td>\n",
              "      <td>0.00</td>\n",
              "      <td>276.2</td>\n",
              "      <td>0</td>\n",
              "      <td>1</td>\n",
              "    </tr>\n",
              "    <tr>\n",
              "      <th>채굴을 시작합니다.</th>\n",
              "      <td>21</td>\n",
              "      <td>0</td>\n",
              "      <td>0</td>\n",
              "      <td>0</td>\n",
              "      <td>0</td>\n",
              "      <td>0</td>\n",
              "      <td>0</td>\n",
              "      <td>1</td>\n",
              "      <td>9.59</td>\n",
              "      <td>1862.4</td>\n",
              "      <td>0.0</td>\n",
              "      <td>0.00</td>\n",
              "      <td>381.2</td>\n",
              "      <td>1</td>\n",
              "      <td>1</td>\n",
              "    </tr>\n",
              "    <tr>\n",
              "      <th>악명 높기로 악명 높은 자</th>\n",
              "      <td>140</td>\n",
              "      <td>1</td>\n",
              "      <td>0</td>\n",
              "      <td>0</td>\n",
              "      <td>0</td>\n",
              "      <td>0</td>\n",
              "      <td>0</td>\n",
              "      <td>0</td>\n",
              "      <td>9.43</td>\n",
              "      <td>2847.6</td>\n",
              "      <td>4.0</td>\n",
              "      <td>0.75</td>\n",
              "      <td>2170.4</td>\n",
              "      <td>0</td>\n",
              "      <td>1</td>\n",
              "    </tr>\n",
              "    <tr>\n",
              "      <th>성검학원의 듀라한</th>\n",
              "      <td>3</td>\n",
              "      <td>1</td>\n",
              "      <td>0</td>\n",
              "      <td>0</td>\n",
              "      <td>0</td>\n",
              "      <td>0</td>\n",
              "      <td>0</td>\n",
              "      <td>0</td>\n",
              "      <td>0.00</td>\n",
              "      <td>4216.4</td>\n",
              "      <td>0.0</td>\n",
              "      <td>0.25</td>\n",
              "      <td>14.8</td>\n",
              "      <td>1</td>\n",
              "      <td>0</td>\n",
              "    </tr>\n",
              "  </tbody>\n",
              "</table>\n",
              "</div>\n",
              "      <button class=\"colab-df-convert\" onclick=\"convertToInteractive('df-be084517-40c6-4b64-bec6-ce7f8e961549')\"\n",
              "              title=\"Convert this dataframe to an interactive table.\"\n",
              "              style=\"display:none;\">\n",
              "        \n",
              "  <svg xmlns=\"http://www.w3.org/2000/svg\" height=\"24px\"viewBox=\"0 0 24 24\"\n",
              "       width=\"24px\">\n",
              "    <path d=\"M0 0h24v24H0V0z\" fill=\"none\"/>\n",
              "    <path d=\"M18.56 5.44l.94 2.06.94-2.06 2.06-.94-2.06-.94-.94-2.06-.94 2.06-2.06.94zm-11 1L8.5 8.5l.94-2.06 2.06-.94-2.06-.94L8.5 2.5l-.94 2.06-2.06.94zm10 10l.94 2.06.94-2.06 2.06-.94-2.06-.94-.94-2.06-.94 2.06-2.06.94z\"/><path d=\"M17.41 7.96l-1.37-1.37c-.4-.4-.92-.59-1.43-.59-.52 0-1.04.2-1.43.59L10.3 9.45l-7.72 7.72c-.78.78-.78 2.05 0 2.83L4 21.41c.39.39.9.59 1.41.59.51 0 1.02-.2 1.41-.59l7.78-7.78 2.81-2.81c.8-.78.8-2.07 0-2.86zM5.41 20L4 18.59l7.72-7.72 1.47 1.35L5.41 20z\"/>\n",
              "  </svg>\n",
              "      </button>\n",
              "      \n",
              "  <style>\n",
              "    .colab-df-container {\n",
              "      display:flex;\n",
              "      flex-wrap:wrap;\n",
              "      gap: 12px;\n",
              "    }\n",
              "\n",
              "    .colab-df-convert {\n",
              "      background-color: #E8F0FE;\n",
              "      border: none;\n",
              "      border-radius: 50%;\n",
              "      cursor: pointer;\n",
              "      display: none;\n",
              "      fill: #1967D2;\n",
              "      height: 32px;\n",
              "      padding: 0 0 0 0;\n",
              "      width: 32px;\n",
              "    }\n",
              "\n",
              "    .colab-df-convert:hover {\n",
              "      background-color: #E2EBFA;\n",
              "      box-shadow: 0px 1px 2px rgba(60, 64, 67, 0.3), 0px 1px 3px 1px rgba(60, 64, 67, 0.15);\n",
              "      fill: #174EA6;\n",
              "    }\n",
              "\n",
              "    [theme=dark] .colab-df-convert {\n",
              "      background-color: #3B4455;\n",
              "      fill: #D2E3FC;\n",
              "    }\n",
              "\n",
              "    [theme=dark] .colab-df-convert:hover {\n",
              "      background-color: #434B5C;\n",
              "      box-shadow: 0px 1px 3px 1px rgba(0, 0, 0, 0.15);\n",
              "      filter: drop-shadow(0px 1px 2px rgba(0, 0, 0, 0.3));\n",
              "      fill: #FFFFFF;\n",
              "    }\n",
              "  </style>\n",
              "\n",
              "      <script>\n",
              "        const buttonEl =\n",
              "          document.querySelector('#df-be084517-40c6-4b64-bec6-ce7f8e961549 button.colab-df-convert');\n",
              "        buttonEl.style.display =\n",
              "          google.colab.kernel.accessAllowed ? 'block' : 'none';\n",
              "\n",
              "        async function convertToInteractive(key) {\n",
              "          const element = document.querySelector('#df-be084517-40c6-4b64-bec6-ce7f8e961549');\n",
              "          const dataTable =\n",
              "            await google.colab.kernel.invokeFunction('convertToInteractive',\n",
              "                                                     [key], {});\n",
              "          if (!dataTable) return;\n",
              "\n",
              "          const docLinkHtml = 'Like what you see? Visit the ' +\n",
              "            '<a target=\"_blank\" href=https://colab.research.google.com/notebooks/data_table.ipynb>data table notebook</a>'\n",
              "            + ' to learn more about interactive tables.';\n",
              "          element.innerHTML = '';\n",
              "          dataTable['output_type'] = 'display_data';\n",
              "          await google.colab.output.renderOutput(dataTable, element);\n",
              "          const docLink = document.createElement('div');\n",
              "          docLink.innerHTML = docLinkHtml;\n",
              "          element.appendChild(docLink);\n",
              "        }\n",
              "      </script>\n",
              "    </div>\n",
              "  </div>\n",
              "  "
            ]
          },
          "metadata": {},
          "execution_count": 88
        }
      ]
    }
  ],
  "metadata": {
    "accelerator": "GPU",
    "colab": {
      "provenance": [],
      "gpuType": "T4",
      "collapsed_sections": [
        "Tg-lnn94-v6Z",
        "2N9pborh0etZ",
        "1sOhXMuEC8Mn",
        "EGJmNRm9U8w9",
        "zfQwyIEIfDg1",
        "CDiaiK4VU_LY",
        "9ta_1rqSfkFg",
        "xXd1J-jMWraM",
        "bkt5W89hW4jH",
        "tNTluBqhg_VD"
      ],
      "toc_visible": true
    },
    "gpuClass": "standard",
    "kernelspec": {
      "display_name": "Python 3",
      "name": "python3"
    },
    "language_info": {
      "name": "python"
    }
  },
  "nbformat": 4,
  "nbformat_minor": 0
}